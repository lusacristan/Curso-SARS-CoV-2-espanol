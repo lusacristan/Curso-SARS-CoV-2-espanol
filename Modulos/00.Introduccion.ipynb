{
  "cells": [
    {
      "attachments": {},
      "cell_type": "markdown",
      "metadata": {
        "id": "VZpWDT_qK5mE"
      },
      "source": [
        "# Notebook de introducción\n",
        "\n",
        "¡Bienvenido al curso! Hay algunas instrucciones muy importantes que debes seguir:\n",
        "\n",
        "1.) Haz clic en \"Archivo\" en la esquina superior izquierda y selecciona \"Guardar una copia en Drive\"\n",
        "\n",
        "**Tus cambios no se guardarán si no realizas este paso\n",
        "\n",
        "2.) Haz clic en el nombre del cuaderno en la esquina superior izquierda y reemplaza \"Copia de\" con tu nombre completo\n",
        "\n",
        "**Enviarás el archivo del cuaderno descargado como prueba de finalización de este módulo\n",
        "\n"
      ]
    },
    {
      "attachments": {},
      "cell_type": "markdown",
      "metadata": {
        "id": "HkAHdwWUJKoZ"
      },
      "source": [
        "Por favor, escribe:\n",
        "```\n",
        "print(\"Sí, he completado el paso 1\")\n",
        "```\n",
        "en el bloque de código a continuación, luego ejecútalo haciendo clic en el icono \"triángulo\"/\"Reproducir\" en ese bloque. \n",
        "\n"
      ]
    },
    {
      "cell_type": "code",
      "execution_count": 2,
      "metadata": {
        "id": "lza1ngCWKHbX"
      },
      "outputs": [],
      "source": [
        "#este bloque será revisado"
      ]
    },
    {
      "attachments": {},
      "cell_type": "markdown",
      "metadata": {
        "id": "l166Rx0ZKLqh"
      },
      "source": [
        "Por favor, escribe: \n",
        "```\n",
        "print(\"Sí, he completado el paso 2\") \n",
        "```\n",
        "en el bloque de código a continuación, luego ejecútalo haciendo clic en el icono \"triángulo\"/\"Reproducir\" en ese bloque.  \n",
        "\n"
      ]
    },
    {
      "cell_type": "code",
      "execution_count": 3,
      "metadata": {
        "id": "nsufot4fKS01"
      },
      "outputs": [],
      "source": [
        "#este bloque será revisado"
      ]
    },
    {
      "attachments": {},
      "cell_type": "markdown",
      "metadata": {
        "id": "G7mk1VecOHLQ"
      },
      "source": [
        "# Instalando Conda\n",
        "Conda es una herramienta de gestión de software versátil. Conda es un sistema de código abierto para gestionar herramientas y bibliotecas. Más información sobre la biblioteca utilizada para instalar Conda en Google Colab está en este [website](https://inside-machinelearning.com/en/how-to-install-use-conda-on-google-colab/)\n",
        "\n",
        "Nota: tu entorno de ejecución se actualizará y volverá a conectar después de ejecutar esto. Puede que aparezca un mensaje de \"entorno de ejecución fallido\", esto parece normal, espera a que la sesión se vuelva a conectar después de esto.\n",
        "\n",
        "\n",
        "Puedes revisar este repositorio para ver cómo funciona esta herramienta:\n",
        "https://github.com/conda-incubator/condacolab \n"
      ]
    },
    {
      "cell_type": "code",
      "execution_count": 4,
      "metadata": {
        "id": "jOTBUZ3gOFm3"
      },
      "outputs": [
        {
          "ename": "RuntimeError",
          "evalue": "This module must ONLY run as part of a Colab notebook!",
          "output_type": "error",
          "traceback": [
            "\u001b[0;31m---------------------------------------------------------------------------\u001b[0m",
            "\u001b[0;31mModuleNotFoundError\u001b[0m                       Traceback (most recent call last)",
            "File \u001b[0;32m~/.local/lib/python3.10/site-packages/condacolab.py:27\u001b[0m\n\u001b[1;32m     26\u001b[0m \u001b[38;5;28;01mtry\u001b[39;00m:\n\u001b[0;32m---> 27\u001b[0m     \u001b[38;5;28;01mimport\u001b[39;00m \u001b[38;5;21;01mgoogle\u001b[39;00m\u001b[38;5;21;01m.\u001b[39;00m\u001b[38;5;21;01mcolab\u001b[39;00m\n\u001b[1;32m     28\u001b[0m \u001b[38;5;28;01mexcept\u001b[39;00m \u001b[38;5;167;01mImportError\u001b[39;00m:\n",
            "\u001b[0;31mModuleNotFoundError\u001b[0m: No module named 'google.colab'",
            "\nDuring handling of the above exception, another exception occurred:\n",
            "\u001b[0;31mRuntimeError\u001b[0m                              Traceback (most recent call last)",
            "Cell \u001b[0;32mIn[4], line 2\u001b[0m\n\u001b[1;32m      1\u001b[0m get_ipython()\u001b[38;5;241m.\u001b[39msystem(\u001b[38;5;124m'\u001b[39m\u001b[38;5;124mpip install -q condacolab\u001b[39m\u001b[38;5;124m'\u001b[39m)\n\u001b[0;32m----> 2\u001b[0m \u001b[38;5;28;01mimport\u001b[39;00m \u001b[38;5;21;01mcondacolab\u001b[39;00m\n\u001b[1;32m      3\u001b[0m condacolab\u001b[38;5;241m.\u001b[39minstall()\n",
            "File \u001b[0;32m~/.local/lib/python3.10/site-packages/condacolab.py:29\u001b[0m\n\u001b[1;32m     27\u001b[0m     \u001b[38;5;28;01mimport\u001b[39;00m \u001b[38;5;21;01mgoogle\u001b[39;00m\u001b[38;5;21;01m.\u001b[39;00m\u001b[38;5;21;01mcolab\u001b[39;00m\n\u001b[1;32m     28\u001b[0m \u001b[38;5;28;01mexcept\u001b[39;00m \u001b[38;5;167;01mImportError\u001b[39;00m:\n\u001b[0;32m---> 29\u001b[0m     \u001b[38;5;28;01mraise\u001b[39;00m \u001b[38;5;167;01mRuntimeError\u001b[39;00m(\u001b[38;5;124m\"\u001b[39m\u001b[38;5;124mThis module must ONLY run as part of a Colab notebook!\u001b[39m\u001b[38;5;124m\"\u001b[39m)\n\u001b[1;32m     32\u001b[0m __version__ \u001b[38;5;241m=\u001b[39m \u001b[38;5;124m\"\u001b[39m\u001b[38;5;124m0.1.8\u001b[39m\u001b[38;5;124m\"\u001b[39m\n\u001b[1;32m     33\u001b[0m __author__ \u001b[38;5;241m=\u001b[39m \u001b[38;5;124m\"\u001b[39m\u001b[38;5;124mJaime Rodríguez-Guerra <jaimergp@users.noreply.github.com>\u001b[39m\u001b[38;5;124m\"\u001b[39m\n",
            "\u001b[0;31mRuntimeError\u001b[0m: This module must ONLY run as part of a Colab notebook!"
          ]
        }
      ],
      "source": [
        "!pip install -q condacolab\n",
        "import condacolab\n",
        "condacolab.install()"
      ]
    },
    {
      "attachments": {},
      "cell_type": "markdown",
      "metadata": {
        "id": "SneaO7ArlUMU"
      },
      "source": [
        "# Practica algunos comandos en bash o python\n",
        "\n",
        "Recuerda que este curso usará principalmente bash; verifica los caracteres de inicio \"!\""
      ]
    },
    {
      "cell_type": "code",
      "execution_count": null,
      "metadata": {
        "id": "i6Wk6e6klSnh"
      },
      "outputs": [],
      "source": [
        "# bash es genial, no olvides el !\n",
        "!echo \"hello world\""
      ]
    },
    {
      "cell_type": "code",
      "execution_count": null,
      "metadata": {
        "id": "EX47x3Iilmm2"
      },
      "outputs": [],
      "source": [
        "#python el predeterminado \n",
        "print(\"Hello World\")"
      ]
    },
    {
      "cell_type": "markdown",
      "metadata": {
        "id": "Fry1n5nVl0XF"
      },
      "source": [
        "# Intenta usar el administrador de archivos con el icono de carpeta del lado izquierdo:\n",
        "Intente hacer una carpeta o archivo haciendo clic derecho en el espacio del archivo a la izquierda.\n",
        "¡Intenta hacer una con un comando!"
      ]
    },
    {
      "cell_type": "code",
      "execution_count": null,
      "metadata": {
        "id": "OJHDGLHllzk8"
      },
      "outputs": [],
      "source": [
        "#hacer una carpeta con un comando\n",
        "!mkdir new_folder"
      ]
    },
    {
      "cell_type": "markdown",
      "metadata": {
        "id": "RTxjogMxmMy1"
      },
      "source": [
        "# ¿Tengo espacio de almacenamiento para siempre?\n",
        "Ejecuta el comando a continuación:"
      ]
    },
    {
      "cell_type": "code",
      "execution_count": null,
      "metadata": {
        "id": "TBEXoPdxmLyO"
      },
      "outputs": [],
      "source": [
        "!echo \"tristemente no...\"; sleep 5; echo \"lo tienes solo por 12 horas al día\""
      ]
    },
    {
      "cell_type": "markdown",
      "metadata": {
        "id": "-qtzGaOBnKU3"
      },
      "source": [
        "# Entonces, ¿cómo guardar trabajos o resultados importantes?\n",
        "\n",
        "¡El cuaderno se guardará automáticamente si has realizado los dos primeros pasos! Luego puedes repetir todo el trabajo haciendo clic en las celdas o ejecutando todo.\n",
        "\n",
        "¡Los datos se pueden descargar a tu computadora local!\n",
        "\n",
        "También puedes vincular tu cuenta de Google Drive para mover archivos allí."
      ]
    },
    {
      "cell_type": "markdown",
      "metadata": {
        "id": "Vyv7uvXhoRou"
      },
      "source": [
        "# Recuerda siempre:\n",
        "(Ejecuta la celda a continuación para un recordatorio)"
      ]
    },
    {
      "cell_type": "code",
      "execution_count": null,
      "metadata": {
        "id": "5iQVAGcQn0dC"
      },
      "outputs": [
        {
          "name": "stdout",
          "output_type": "stream",
          "text": [
            "Hacer los dos primeros pasos: guardar y cambiar el nombre\n",
            "probar cosas nuevas\n",
            "AprendeR a medida que avanzas\n",
            "y divertirse!\n"
          ]
        }
      ],
      "source": [
        "# Recuerda siempre :\n",
        "!echo \"Hacer los dos primeros pasos: guardar y cambiar el nombre\"; sleep 2; echo \"probar cosas nuevas\"; sleep 2; echo aprender a medida que avanzas\"; sleep 2; echo \"y divertirse!\""
      ]
    }
  ],
  "metadata": {
    "colab": {
      "collapsed_sections": [],
      "provenance": []
    },
    "kernelspec": {
      "display_name": "Python 3",
      "language": "python",
      "name": "python3"
    },
    "language_info": {
      "codemirror_mode": {
        "name": "ipython",
        "version": 3
      },
      "file_extension": ".py",
      "mimetype": "text/x-python",
      "name": "python",
      "nbconvert_exporter": "python",
      "pygments_lexer": "ipython3",
      "version": "3.10.12"
    },
    "vscode": {
      "interpreter": {
        "hash": "916dbcbb3f70747c44a77c7bcd40155683ae19c65e1c03b4aa3499c5328201f1"
      }
    }
  },
  "nbformat": 4,
  "nbformat_minor": 0
}
