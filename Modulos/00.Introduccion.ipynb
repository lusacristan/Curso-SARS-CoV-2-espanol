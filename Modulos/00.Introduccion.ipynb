{
  "cells": [
    {
      "attachments": {},
      "cell_type": "markdown",
      "metadata": {
        "id": "VZpWDT_qK5mE"
      },
      "source": [
        "# Notebook de introducción\n",
        "\n",
        "¡Bienvenido al curso! Hay algunas instrucciones muy importantes que debes seguir:\n",
        "\n",
        "1.) Haz clic en \"Archivo\" en la esquina superior izquierda y selecciona \"Guardar una copia en Drive\"\n",
        "\n",
        "**Tus cambios no se guardarán si no realizas este paso\n",
        "\n",
        "2.) Haz clic en el nombre del cuaderno en la esquina superior izquierda y reemplaza \"Copia de\" con tu nombre completo\n",
        "\n",
        "**Enviarás el archivo del cuaderno descargado como prueba de finalización de este módulo\n",
        "\n"
      ]
    },
    {
      "attachments": {},
      "cell_type": "markdown",
      "metadata": {
        "id": "HkAHdwWUJKoZ"
      },
      "source": [
        "Por favor, escribe:\n",
        "```\n",
        "print(\"Sí, he completado el paso 1\")\n",
        "```\n",
        "en el bloque de código a continuación, luego ejecútalo haciendo clic en el icono \"triángulo\"/\"Reproducir\" en ese bloque. \n",
        "\n"
      ]
    },
    {
      "cell_type": "code",
      "execution_count": null,
      "metadata": {
        "id": "lza1ngCWKHbX"
      },
      "outputs": [],
      "source": [
        "#este bloque será revisado"
      ]
    },
    {
      "attachments": {},
      "cell_type": "markdown",
      "metadata": {
        "id": "l166Rx0ZKLqh"
      },
      "source": [
        "Por favor, escribe: \n",
        "```\n",
        "print(\"Sí, he completado el paso 2\") \n",
        "```\n",
        "en el bloque de código a continuación, luego ejecútalo haciendo clic en el icono \"triángulo\"/\"Reproducir\" en ese bloque.  \n",
        "\n"
      ]
    },
    {
      "cell_type": "code",
      "execution_count": null,
      "metadata": {
        "id": "nsufot4fKS01"
      },
      "outputs": [],
      "source": [
        "#este bloque será revisado"
      ]
    },
    {
      "cell_type": "markdown",
      "metadata": {
        "id": "G7mk1VecOHLQ"
      },
      "source": [
        "# Installing Conda\n",
        "Conda is a versatile software management tool. Conda is an open source system of managing tools and libraries. More info on the library used to install conda on Google Colab is at this [website](https://inside-machinelearning.com/en/how-to-install-use-conda-on-google-colab/)\n",
        "\n",
        "Note - your runtime will refresh and reconnect after running this. It will say runtime crashed, this seems normal, wait for the session to reconnect after this.\n",
        "\n",
        "\n",
        "You can check out this repo for how this tool works:\n",
        "https://github.com/conda-incubator/condacolab \n"
      ]
    },
    {
      "cell_type": "code",
      "execution_count": null,
      "metadata": {
        "id": "jOTBUZ3gOFm3"
      },
      "outputs": [],
      "source": [
        "!pip install -q condacolab\n",
        "import condacolab\n",
        "condacolab.install()"
      ]
    },
    {
      "cell_type": "markdown",
      "metadata": {
        "id": "SneaO7ArlUMU"
      },
      "source": [
        "# Practice some commands in bash or python\n",
        "\n",
        "Remember that this course will primarily use bash - check those \"!\" lead characters"
      ]
    },
    {
      "cell_type": "code",
      "execution_count": null,
      "metadata": {
        "id": "i6Wk6e6klSnh"
      },
      "outputs": [],
      "source": [
        "# bash is great, dont forget the !\n",
        "!echo \"hello world\""
      ]
    },
    {
      "cell_type": "code",
      "execution_count": null,
      "metadata": {
        "id": "EX47x3Iilmm2"
      },
      "outputs": [],
      "source": [
        "#python is the default \n",
        "print(\"Hello World\")"
      ]
    },
    {
      "cell_type": "markdown",
      "metadata": {
        "id": "Fry1n5nVl0XF"
      },
      "source": [
        "# Try use the file manager with the left hand side folder icon:\n",
        "Try making a folder or file by right clicking on the file space on the left\n",
        "Then try make one with a command!"
      ]
    },
    {
      "cell_type": "code",
      "execution_count": 4,
      "metadata": {
        "id": "OJHDGLHllzk8"
      },
      "outputs": [],
      "source": [
        "#make a folder with a command\n",
        "!mkdir new_folder"
      ]
    },
    {
      "cell_type": "markdown",
      "metadata": {
        "id": "RTxjogMxmMy1"
      },
      "source": [
        "# Do I have this storage space forever? \n",
        "Run the command below:"
      ]
    },
    {
      "cell_type": "code",
      "execution_count": null,
      "metadata": {
        "id": "TBEXoPdxmLyO"
      },
      "outputs": [],
      "source": [
        "!echo \"sadly no...\"; sleep 5; echo \"you have it only for 12 hours a day\""
      ]
    },
    {
      "cell_type": "markdown",
      "metadata": {
        "id": "-qtzGaOBnKU3"
      },
      "source": [
        "# So how to save important work or outputs? \n",
        "The notebook will save automatically if you have done the first two steps! You can then repeat all work by clicking the cells or running all. \n",
        "\n",
        "The data can be downloaded to your local computer!\n",
        "\n",
        "You can also link your Google Drive to this to move files there (your storage limits apply!)"
      ]
    },
    {
      "cell_type": "markdown",
      "metadata": {
        "id": "Vyv7uvXhoRou"
      },
      "source": [
        "# Always remember to:\n",
        "(run the cell below for a reminder)"
      ]
    },
    {
      "cell_type": "code",
      "execution_count": 1,
      "metadata": {
        "id": "5iQVAGcQn0dC"
      },
      "outputs": [
        {
          "name": "stdout",
          "output_type": "stream",
          "text": [
            "DO the FIRST TWO STEPS - SAVE and RENAME\n",
            "try new things\n",
            "learn as you go\n",
            "and have fun!\n"
          ]
        }
      ],
      "source": [
        "# Always remember to :\n",
        "!echo \"DO the FIRST TWO STEPS - SAVE and RENAME\"; sleep 2; echo \"try new things\"; sleep 2; echo \"learn as you go\"; sleep 2; echo \"and have fun!\""
      ]
    }
  ],
  "metadata": {
    "colab": {
      "collapsed_sections": [],
      "provenance": []
    },
    "kernelspec": {
      "display_name": "Python 3",
      "language": "python",
      "name": "python3"
    },
    "language_info": {
      "codemirror_mode": {
        "name": "ipython",
        "version": 3
      },
      "file_extension": ".py",
      "mimetype": "text/x-python",
      "name": "python",
      "nbconvert_exporter": "python",
      "pygments_lexer": "ipython3",
      "version": "3.10.12"
    },
    "vscode": {
      "interpreter": {
        "hash": "916dbcbb3f70747c44a77c7bcd40155683ae19c65e1c03b4aa3499c5328201f1"
      }
    }
  },
  "nbformat": 4,
  "nbformat_minor": 0
}
