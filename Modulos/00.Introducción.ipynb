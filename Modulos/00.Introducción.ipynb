{
  "cells": [
    {
      "attachments": {},
      "cell_type": "markdown",
      "metadata": {
        "id": "VZpWDT_qK5mE"
      },
      "source": [
        "# Notebook de introducción\n",
        "\n",
        "¡Bienvenido al curso! Hay algunas instrucciones muy importantes que debe seguir:\n",
        "\n",
        "1.) Haga clic en \"Archivo\" en la esquina superior izquierda y seleccione \"Guardar una copia en Drive\"\n",
        "\n",
        "**Sus cambios no se guardarán si no realiza este paso\n",
        "\n",
        "2.) Haga clic en el nombre del notebook en la esquina superior izquierda y reemplaza \"Copia de\" con tu nombre completo\n"
      ]
    },
    {
      "attachments": {},
      "cell_type": "markdown",
      "metadata": {
        "id": "HkAHdwWUJKoZ"
      },
      "source": [
        "Por favor, escriba:\n",
        "```\n",
        "print(\"Sí, he completado el paso 1\")\n",
        "```\n",
        "en el bloque de código a continuación, luego ejecútelo haciendo clic en el icono \"triángulo\"/\"Reproducir\" en ese bloque. \n",
        "\n"
      ]
    },
    {
      "cell_type": "code",
      "execution_count": 2,
      "metadata": {
        "id": "lza1ngCWKHbX"
      },
      "outputs": [],
      "source": [
        "#Bloque"
      ]
    },
    {
      "attachments": {},
      "cell_type": "markdown",
      "metadata": {
        "id": "l166Rx0ZKLqh"
      },
      "source": [
        "Por favor, escriba: \n",
        "```\n",
        "print(\"Sí, he completado el paso 2\") \n",
        "```\n",
        "en el bloque de código a continuación, luego ejecútelo haciendo clic en el icono \"triángulo\"/\"Reproducir\" en ese bloque.  \n",
        "\n"
      ]
    },
    {
      "cell_type": "code",
      "execution_count": 3,
      "metadata": {
        "id": "nsufot4fKS01"
      },
      "outputs": [],
      "source": [
        "#Bloque"
      ]
    },
    {
      "attachments": {},
      "cell_type": "markdown",
      "metadata": {
        "id": "G7mk1VecOHLQ"
      },
      "source": [
        "# Instalando Conda\n",
        "Conda es una herramienta de gestión de software versátil. Conda es un sistema de código abierto para gestionar herramientas y bibliotecas. Más información sobre la biblioteca utilizada para instalar Conda en Google Colab está en este [website](https://inside-machinelearning.com/en/how-to-install-use-conda-on-google-colab/)\n",
        "\n",
        "Nota: el entorno de ejecución se actualizará y volverá a conectar después de ejecutar esto. Puede que aparezca un mensaje de \"entorno de ejecución fallido\", esto es normal, espere a que la sesión se vuelva a conectar después de esto.\n",
        "\n",
        "\n",
        "Puede revisar este repositorio para ver cómo funciona esta herramienta:\n",
        "https://github.com/conda-incubator/condacolab \n"
      ]
    },
    {
      "cell_type": "code",
      "execution_count": null,
      "metadata": {
        "id": "jOTBUZ3gOFm3"
      },
      "outputs": [],
      "source": [
        "!pip install -q condacolab\n",
        "import condacolab\n",
        "condacolab.install()"
      ]
    },
    {
      "attachments": {},
      "cell_type": "markdown",
      "metadata": {
        "id": "SneaO7ArlUMU"
      },
      "source": [
        "# Practica algunos comandos en bash o python\n",
        "\n",
        "Recuerda que este curso usará principalmente bash; verifica los caracteres de inicio \"!\""
      ]
    },
    {
      "cell_type": "code",
      "execution_count": null,
      "metadata": {
        "id": "i6Wk6e6klSnh"
      },
      "outputs": [],
      "source": [
        "# bash es genial, no olvides el !\n",
        "!echo \"hello world\""
      ]
    },
    {
      "cell_type": "code",
      "execution_count": null,
      "metadata": {
        "id": "EX47x3Iilmm2"
      },
      "outputs": [],
      "source": [
        "#python el predeterminado \n",
        "print(\"Hello World\")"
      ]
    },
    {
      "cell_type": "markdown",
      "metadata": {
        "id": "Fry1n5nVl0XF"
      },
      "source": [
        "# Intenta usar el administrador de archivos con el icono de carpeta del lado izquierdo:\n",
        "Intente hacer una carpeta o archivo haciendo clic derecho en el espacio del archivo a la izquierda.\n",
        "¡Intente hacer una con un comando!"
      ]
    },
    {
      "cell_type": "code",
      "execution_count": null,
      "metadata": {
        "id": "OJHDGLHllzk8"
      },
      "outputs": [],
      "source": [
        "#hacer una carpeta con un comando\n",
        "!mkdir new_folder"
      ]
    },
    {
      "cell_type": "markdown",
      "metadata": {
        "id": "RTxjogMxmMy1"
      },
      "source": [
        "# ¿Tengo espacio de almacenamiento para siempre?\n",
        "Ejecute el comando a continuación:"
      ]
    },
    {
      "cell_type": "code",
      "execution_count": null,
      "metadata": {
        "id": "TBEXoPdxmLyO"
      },
      "outputs": [],
      "source": [
        "!echo \"tristemente no...\"; sleep 5; echo \"lo tienes solo por 12 horas al día\""
      ]
    },
    {
      "cell_type": "markdown",
      "metadata": {
        "id": "-qtzGaOBnKU3"
      },
      "source": [
        "# Entonces, ¿cómo guardar trabajos o resultados importantes?\n",
        "\n",
        "¡El notebook se guardará automáticamente si ha realizado los dos primeros pasos! Luego puede repetir todo el trabajo haciendo clic en las celdas o ejecutando todo.\n",
        "\n",
        "¡Los datos se pueden descargar a su computadora local!\n",
        "\n",
        "También puede vincular su cuenta de Google Drive para mover archivos allí."
      ]
    },
    {
      "cell_type": "markdown",
      "metadata": {
        "id": "Vyv7uvXhoRou"
      },
      "source": [
        "# Recuerde siempre:\n",
        "(Ejecute la celda a continuación para un recordatorio)"
      ]
    },
    {
      "cell_type": "code",
      "execution_count": null,
      "metadata": {
        "id": "5iQVAGcQn0dC"
      },
      "outputs": [],
      "source": [
        "# Recuerda siempre :\n",
        "!echo \"Hacer los dos primeros pasos: guardar y cambiar el nombre\"; sleep 2; echo \"probar cosas nuevas\"; sleep 2; echo aprender a medida que avanzas\"; sleep 2; echo \"y divertirse!\""
      ]
    }
  ],
  "metadata": {
    "colab": {
      "collapsed_sections": [],
      "provenance": []
    },
    "kernelspec": {
      "display_name": "Python 3",
      "language": "python",
      "name": "python3"
    },
    "language_info": {
      "codemirror_mode": {
        "name": "ipython",
        "version": 3
      },
      "file_extension": ".py",
      "mimetype": "text/x-python",
      "name": "python",
      "nbconvert_exporter": "python",
      "pygments_lexer": "ipython3",
      "version": "3.10.12"
    },
    "vscode": {
      "interpreter": {
        "hash": "916dbcbb3f70747c44a77c7bcd40155683ae19c65e1c03b4aa3499c5328201f1"
      }
    }
  },
  "nbformat": 4,
  "nbformat_minor": 0
}
