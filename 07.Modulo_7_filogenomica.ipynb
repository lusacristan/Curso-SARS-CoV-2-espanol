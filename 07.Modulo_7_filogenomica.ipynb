{
  "cells": [
    {
      "cell_type": "markdown",
      "metadata": {
        "id": "HTAcxxiLtcAx"
      },
      "source": [
        "# Módulo 7: Análisis filogenómico\n",
        "\n",
        "\n",
        "C¡Bienvenido al curso! Hay algunas instrucciones muy importantes que debe seguir si desea guardar una copia de este módulo en su cuenta de Google Drive:\n",
        "\n",
        "1.) Haga clic en \"Archivo\" en la esquina superior izquierda y seleccione \"Guardar una copia en Drive\"\n",
        "\n",
        "\n",
        "2.) Haga clic en el nombre del notebook en la esquina superior izquierda y reemplace por el nombre que desee.\n",
        "\n",
        "**Sus cambios no se guardarán si no realiza este paso.**\n",
        "\n",
        "Antes de iniciar este módulo le recomendamos ver los videos de esta playlist: https://www.youtube.com/watch?v=BcXr7QhJ5AE&list=PLfovZnX0TvKu_wFgoZSN0DuKQ-sarlmg3&index=2"
      ]
    },
    {
      "cell_type": "markdown",
      "metadata": {
        "id": "9jVnQBVtt9t_"
      },
      "source": [
        "### Instalemos los paquetes de análisis necesarios.\n",
        "\n",
        "Para esta parte usaremos: \n",
        "**seqtk** para evaluar la calidad del genoma (https://github.com/lh3/seqtk)  \n",
        "**Mafft** para la alineación del genoma (https://mafft.cbrc.jp/alignment/software/)  \n",
        "**snp-site** Para una evaluación rápida de de diferencia de SNP (https://github.com/sanger-pathogens/snp-sites)  \n",
        "**Fasttree** para la construcción de árboles filogenéticos (http://www.microbesonline.org/fasttree/)  \n",
        "**Phylo** d para visualización rápida de árboles con biophyton (https://biopython.org/wiki/Phylo). *Nota*: Hay muchos programas de Visualización de árboles. Los más utilizados comúnmente son ggtree (R), ete3 (Python) e itol (https://itol.embl.de/).  \n",
        "\n",
        "Cuenta microreact (https://microreact.org/), donde puede iniciar sesión con su cuenta de Google."
      ]
    },
    {
      "cell_type": "code",
      "execution_count": null,
      "metadata": {
        "colab": {
          "base_uri": "https://localhost:8080/"
        },
        "collapsed": true,
        "id": "TScBu-_j7MQ-",
        "outputId": "6e87eb5e-ee6b-4c86-d131-b7db2095d64f"
      },
      "outputs": [
        {
          "name": "stdout",
          "output_type": "stream",
          "text": [
            "Python 3.7.15\n"
          ]
        }
      ],
      "source": [
        "!python --version"
      ]
    },
    {
      "cell_type": "code",
      "execution_count": null,
      "metadata": {
        "id": "uUCA4PN6Z9zf"
      },
      "outputs": [],
      "source": [
        "!pip install -q condacolab\n",
        "import condacolab\n",
        "condacolab.install()"
      ]
    },
    {
      "cell_type": "code",
      "execution_count": null,
      "metadata": {
        "id": "bdW6qL0n2j2B"
      },
      "outputs": [],
      "source": [
        "!conda install -c conda-forge biopython"
      ]
    },
    {
      "cell_type": "code",
      "execution_count": null,
      "metadata": {
        "id": "r_BfX1pMbV2G"
      },
      "outputs": [],
      "source": [
        "!conda install -c bioconda mafft snp-sites fasttree seqtk snp-dists\n"
      ]
    },
    {
      "cell_type": "markdown",
      "metadata": {
        "id": "MIUdD5K5vwoZ"
      },
      "source": [
        "### Descargue los datasets para ser analizados\n",
        " \n",
        "En este módulo utilizaremos los datos analizados en el módulo 3. Estos datos pertenecen al artículo \"[Overview of the SARS-CoV-2 genotypes circulating in Latin America during 2021]( https://doi.org/10.3389/fpubh.2023.1095202 )\" publicado por Molina-Mora et al. 2023, como parte de un proyecto de CABANA."
      ]
    },
    {
      "cell_type": "code",
      "execution_count": null,
      "metadata": {
        "id": "iD1qs04Uwqhw"
      },
      "outputs": [],
      "source": [
        "!wget https://zenodo.org/records/10888461/files/module_4.tar"
      ]
    },
    {
      "cell_type": "code",
      "execution_count": null,
      "metadata": {},
      "outputs": [],
      "source": [
        "!tar -xvf module_4.tar"
      ]
    },
    {
      "cell_type": "code",
      "execution_count": null,
      "metadata": {},
      "outputs": [],
      "source": [
        "%cd module_4/"
      ]
    },
    {
      "cell_type": "markdown",
      "metadata": {
        "id": "uE3delhayu1x"
      },
      "source": [
        "Primero evaluaremos la calidad de los genomas para determinar si son suficientemente buenos para el análisis. Para SARS-CoV-2, estamos principalmente interesados en el número de Ns. El paquete que utilizaremos es seqtk comp, que ofrece muchas estadísticas para archivos en formato fasta.\n",
        "\n",
        "Output format: chr, length, #A, #C, #G, #T, #2, #3, #4, #CpG, #tv, #ts, #CpG-ts\n",
        "\n",
        "9th column, #4 is the number of Ns, 4 ambiguities, ie A, G, T, or C.\n",
        "\n",
        "Si ha separado los archivos FASTA, podría ser más fácil combinar los archivos. De lo contrario, debe analizar por los archivos del genoma por separado."
      ]
    },
    {
      "cell_type": "code",
      "execution_count": null,
      "metadata": {
        "id": "LXmAbKCFw9e4"
      },
      "outputs": [],
      "source": [
        "#seqtk comp nos permite obtener la calidad de un archivo fasta\n",
        "#cut -f 1,9 Selecciona la columna 1 y 9, la información que necesitamos.\n",
        "!seqtk comp gisaid_hcov-19_2024_03_27_02.fasta    | cut -f 1,9 > gisaid_hcov-19_quality.tsv"
      ]
    },
    {
      "cell_type": "code",
      "execution_count": null,
      "metadata": {
        "id": "JhddkUIM0ca7"
      },
      "outputs": [],
      "source": [
        "!cat gisaid_hcov-19_quality.tsv"
      ]
    },
    {
      "cell_type": "markdown",
      "metadata": {
        "id": "MMRXJ12A0ood"
      },
      "source": [
        "La calidad se ve bien, sin embargo, las muestras EPI_ISL_10072006 y EPI_ISL_7961355  no son tam buenas como las demás. Tienen 1139 y 1628 bases ambiguas, pero son lo suficientemente buenas para el análisis. En general, requerimos el 90% o menos de **3000** Ns en el genoma para ensamblar y realizar el análisis de árboles filogenéticos. Tener el 70% del genoma ensamblado es el valor predeterminado en Pangolin para la asignación de linaje."
      ]
    },
    {
      "cell_type": "markdown",
      "metadata": {
        "id": "6RPfQ30P023Y"
      },
      "source": [
        "### Alineamiento\n",
        "\n",
        "Utilizaremos mafft para la alineación. Es bastante rápido y bastante preciso.\n",
        "\n",
        "Existen muchas opciones para alinear secuencias en mafft. `--auto` es una buena opción donde el programa elige automáticamente el algoritmo más eficiente (un buen equilibrio entre velocidad y precisión). La alineación podría llevar días si se utilizara el algoritmo más preciso para alinear secuencias largas. Si está alineando secuencias cortas, como una región del gen/proteína de la espiga, puede utilizar opciones más precisas. El sitio web de mafft tiene buenos ejemplos de qué usar en cada caso.\n",
        "\n",
        "Para que mafft alinee las secuencias, en nuestro caso genomas completos, necesitas combinar las secuencias que deseas alinear en un solo archivo. Lo bueno es que ya has hecho eso y como todos los genomas son buenos, no necesitamos excluir ninguno de la alineación."
      ]
    },
    {
      "cell_type": "code",
      "execution_count": null,
      "metadata": {
        "id": "lctKoEKLbrVG"
      },
      "outputs": [],
      "source": [
        "!mafft --auto gisaid_hcov-19_2024_03_27_02.fasta > gisaid_hcov_aligned.fasta"
      ]
    },
    {
      "cell_type": "markdown",
      "metadata": {
        "id": "I7F90-At1nrL"
      },
      "source": [
        "### Mirada rápida a las diferencias de los genomas\n",
        "snp-site es un software realmente bueno para darte una idea de cuán relacionados están tus genomas de interés. Para conjuntos de datos pequeños como este, es realmente útil. Analiza tu alineación y te proporciona un alineamiento de SNP de manera predeterminada. También puede proporcionarte información de SNP en formato VCF."
      ]
    },
    {
      "cell_type": "code",
      "execution_count": null,
      "metadata": {
        "id": "dvGvS0hkb1gO"
      },
      "outputs": [],
      "source": [
        "!snp-sites gisaid_hcov_aligned.fasta"
      ]
    },
    {
      "cell_type": "code",
      "execution_count": null,
      "metadata": {},
      "outputs": [],
      "source": [
        "#puede mirar la distancia de SNP entre pares de muestras usando snp-dist\n",
        "!snp-dists gisaid_hcov_aligned.fasta"
      ]
    },
    {
      "cell_type": "markdown",
      "metadata": {
        "id": "Xc_agJV-4dK2"
      },
      "source": [
        "La alineación es un poco más complicada con más diferencias, por lo tanto, necesitamos un árbol filogenético para visualizar las relaciones"
      ]
    },
    {
      "cell_type": "code",
      "execution_count": null,
      "metadata": {
        "id": "QCsmOP11dLQF"
      },
      "outputs": [],
      "source": [
        "!fasttree -nt -gtr -gamma gisaid_hcov_aligned.fasta > gisaid_hcov_aligned.nwk"
      ]
    },
    {
      "cell_type": "code",
      "execution_count": null,
      "metadata": {
        "id": "mdiGRYRv4yTP"
      },
      "outputs": [],
      "source": [
        "!cat gisaid_hcov_aligned.nwk\n",
        "#Como puede ver, es bastante difícil interpretar este formato sin visualizar en forma de árbol"
      ]
    },
    {
      "cell_type": "code",
      "execution_count": null,
      "metadata": {
        "id": "Kd9qVlnE-4wX"
      },
      "outputs": [],
      "source": [
        "from Bio import Phylo\n",
        "\n",
        "tree = Phylo.read(\"gisaid_hcov_aligned.nwk\", \"newick\")\n",
        "print(\"tree\")\n",
        "Phylo.draw_ascii(tree)"
      ]
    },
    {
      "cell_type": "code",
      "execution_count": null,
      "metadata": {
        "id": "eCFGhUSE728C"
      },
      "outputs": [],
      "source": [
        "# Ahora vamos a agregar el genoma de referencia 2020\n",
        "!mafft --auto --add gisaid_hcov_aligned.fasta reference_genome.fasta > gisaid_hcov_aligned_ref.fasta"
      ]
    },
    {
      "cell_type": "code",
      "execution_count": null,
      "metadata": {
        "id": "QN1R5DaM7-pZ"
      },
      "outputs": [],
      "source": [
        "!fasttree -nt -gtr -gamma gisaid_hcov_aligned_ref.fasta > gisaid_hcov_aligned_ref.nwk"
      ]
    },
    {
      "cell_type": "markdown",
      "metadata": {
        "id": "QxxCeejy_k7c"
      },
      "source": [
        "\n",
        "Eche un vistazo a la alineación de SNP también usando snp-site. Verá que el uso de la referencia permitió la identificación de bases ancestrales, por lo que ahora sabemos qué cambios en los nucleótidos son mutaciones del tipo salvaje. Anteriormente, el algoritmo de árbol suponía que la base mayoritaria es la secuencia ancestral, que no es correcta."
      ]
    },
    {
      "cell_type": "code",
      "execution_count": null,
      "metadata": {
        "id": "30evp4Lb8QiP"
      },
      "outputs": [],
      "source": [
        "from Bio import Phylo\n",
        "\n",
        "treeOutgroup = Phylo.read(\"gisaid_hcov_aligned_ref.nwk\", \"newick\")\n",
        "treeOutgroup.root_with_outgroup({\"name\": \"nCoV2019|Wuhan-Hu-1|MN908947|China|Wuhan|2019-12\"}) \n",
        "print(\"treeOutgroup\")\n",
        "Phylo.draw_ascii(treeOutgroup)"
      ]
    },
    {
      "cell_type": "markdown",
      "metadata": {
        "id": "QNcABKhIBi9P"
      },
      "source": [
        "### Observar la demostración/video de microreact y nextstrain\n",
        "\n",
        "Mirar los árboles de esta manera es bastante difícil, existen algunas buenas herramientas que permiten árboles interactivos y visualización de metadatos.\n",
        "\n",
        "https://docs.microreact.org/   \n",
        "https://nextstrain.org/community/narratives/ESR-NZ/GenomicsNarrativeSARSCoV2/aotearoa-border-incursions"
      ]
    },
    {
      "cell_type": "markdown",
      "metadata": {
        "id": "ZApyhIf24USQ"
      },
      "source": [
        "### Otras herramientas para conjuntos de datos y construcción de árboles más grandes\n",
        "mafft incluso en el modelo de precisión mínima puede ser bastante lento una vez que tenga 1000 de genomas para alinearse. Para acelerar las cosas, puede agregar nuevos genomas a las alineaciones existentes o dividir los genomas en grupos como linajes o sublinajes y luego fusionar las alineaciones. El sitio web de mafft tiene una buena explicación de estos trucos y sus problemas.\n",
        "\n",
        "nextalign es otra herramienta que puede usar.¡Es súper rápida!(https://docs.nextstrain.org/projects/nextclade/en/stable/user/nextalign-cli.html)\n",
        "\n",
        "iqtree2 es un paquete integral (no baysiano) de construcción de filogenia que puede probar los mejores modelos de substitución  para su conjunto de datos, realizar análisis bootstrap, comparar filogenia, etc.  Es probablemente una de las mejores herramientas de construcción de árbol.(http://www.iqtree.org/)\n",
        "\n",
        "usher es un paquete de software que permite agregar secuencias a los árboles existentes sin volver a hacer toda la alineación.(https://www.nature.com/articles/s41588-021-00862-7) Usamos esto cuando analizamos el conjunto de datos de vuelo. Hay algunas advertencias y problemas que debe tener en cuenta. Si la alineación existente está realmente limpia y las secuencias a agregar son de alta calidad, usar usher es una buena forma rápida de obtener algunos resultados preliminares rápidos. Sin embargo, no trabaja muy bien con Ns o gaps.\n",
        "\n",
        "Para la filogenia bayesiana temporal , a menudo se usa BEAST2. (https://www.beast2.org/) https://www.nature.com/articles/s41559-017-0280-x"
      ]
    },
    {
      "cell_type": "markdown",
      "metadata": {},
      "source": [
        "## Tarea\n",
        "\n",
        "> **Hay un clado que contiene las 3 secuencias de un solo país. ¿Cuál país es?** \n",
        "\n",
        "> **¿Cuál es la distancia entre EPI_ISL_14434222 y EPI_ISL_14434358**\n",
        "\n",
        "> **¿Cómo lo ve reflejado en el árbol?**"
      ]
    },
    {
      "cell_type": "markdown",
      "metadata": {},
      "source": [
        "*Adaptado de:*\n",
        "\n",
        "- SARS-CoV-2 Bioinformatics for Beginners Course - Wellcome Connecting Science\n",
        "- Viral Genomics and Bioinformatics Asia 2022 - Wellcome Connecting Science\n",
        "\n",
        "\n",
        "*Modificado por Luisa Sacristán (Universidad de los Andes-CABANA)*"
      ]
    }
  ],
  "metadata": {
    "colab": {
      "provenance": []
    },
    "kernelspec": {
      "display_name": "Python 3",
      "name": "python3"
    },
    "language_info": {
      "name": "python"
    }
  },
  "nbformat": 4,
  "nbformat_minor": 0
}
