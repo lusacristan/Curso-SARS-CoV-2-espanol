{
  "cells": [
    {
      "cell_type": "markdown",
      "metadata": {
        "id": "JyG45Qk3qQLS"
      },
      "source": [
        "# QC inicial para secuenciación del genoma de nanoporos e ilumina SARS-Cov-2\n",
        "En este notebook analizaremos los resultados de  secuenciación, utilizando dos enfoques para la secuenciación delgenoma de SARS-CoV-2. Ambos se basan en el **ARTIC protocol**,, desarrollado por [Artic Network] (https://artic.network/ncov-2019). Para Illumina, corresponde al protocolo Classic Artic, que amplifica el genoma SARS-CoV-2 en 98 fragmentos de 400 pb cada uno. Para Nanopore, el protocolo usado se llama **\"Midnight Protocol\"** y se basa en la amplificación de 29 fragmentos superpuestos de 1200 pb que cubren todo el genoma SARS-CoV-2 SARS-CoV-2.\n",
        "El contenido del notebook se puede resumir en:\n",
        "\n",
        "* Descargar datos\n",
        "* Instalar software y preparar el entorno\n",
        "* Ejecutar el control de calidad de la secuenciación\n"
      ]
    },
    {
      "cell_type": "markdown",
      "metadata": {
        "id": "XpZkbJoJ0aWW"
      },
      "source": [
        "### Descargar datos"
      ]
    },
    {
      "cell_type": "code",
      "execution_count": null,
      "metadata": {
        "id": "ygMYpaDw0YnB"
      },
      "outputs": [],
      "source": [
        "!wget https://zenodo.org/records/10681134/files/module_2.tar.gz"
      ]
    },
    {
      "cell_type": "code",
      "execution_count": null,
      "metadata": {},
      "outputs": [],
      "source": []
    },
    {
      "cell_type": "markdown",
      "metadata": {},
      "source": [
        "### Extraer los archivos .tar.gz"
      ]
    },
    {
      "cell_type": "code",
      "execution_count": null,
      "metadata": {},
      "outputs": [],
      "source": [
        "!tar xvf module_2.tar.gz"
      ]
    },
    {
      "cell_type": "markdown",
      "metadata": {
        "id": "33ZISlFh92bZ"
      },
      "source": [
        "### Instalar condacolab"
      ]
    },
    {
      "cell_type": "code",
      "execution_count": null,
      "metadata": {
        "id": "jymSg1rN92Ak"
      },
      "outputs": [],
      "source": [
        "!pip install -q condacolab\n",
        "import condacolab\n",
        "condacolab.install()"
      ]
    },
    {
      "cell_type": "markdown",
      "metadata": {
        "id": "fsIZH9hN5Ynw"
      },
      "source": [
        "### Instalar software"
      ]
    },
    {
      "cell_type": "code",
      "execution_count": null,
      "metadata": {
        "id": "XcKwQKXw5X-n"
      },
      "outputs": [],
      "source": [
        "!conda install -c bioconda fastqc"
      ]
    },
    {
      "cell_type": "code",
      "execution_count": null,
      "metadata": {},
      "outputs": [],
      "source": [
        "!pip install nanoplot"
      ]
    },
    {
      "cell_type": "code",
      "execution_count": null,
      "metadata": {
        "id": "lHsg9XFHEsO8"
      },
      "outputs": [],
      "source": [
        "!pip install multiqc"
      ]
    },
    {
      "cell_type": "markdown",
      "metadata": {
        "id": "cCKzvpK9yzmt"
      },
      "source": [
        "### Recordemos el formato FASTQ\n",
        "\n",
        "All sequencers produces data in a format called **fastq**. The structure is showed below. All sequences with a fastq are represented by 4 lines:\n",
        "\n",
        "```\n",
        "@SEQ_ID                   <---- SEQUENCE NAME\n",
        "AGCGTGTACTGTGCATGTCGATG   <---- SEQUENCE AS BASES\n",
        "+                         <---- SEPARATOR LINE\n",
        "%%).1***-+*''))**55CCFF   <---- ASCII QUALITY SCORES\n",
        "\n",
        "```\n",
        "\n",
        "The quality of the sequences is represented as a character of the ASCII code. Check [here](https://support.illumina.com/help/BaseSpace_OLH_009008/Content/Source/Informatics/BS/QualityScoreEncoding_swBS.htm) for an explanation.\n",
        "The numerical values correspond to phred quality values"
      ]
    },
    {
      "cell_type": "markdown",
      "metadata": {
        "id": "97-AF1JnuR_4"
      },
      "source": [
        "# Illumina QC\n",
        "\n",
        "We will use [FastQC](https://www.bioinformatics.babraham.ac.uk/projects/fastqc/) software for the analysis of the results of a Illumina run. FastQC run a series of analysis on fastq files, and report the results as an HTML file that you open in a browser. For help on any of the sections, please check the following links.\n",
        "\n",
        "*   [Basic statitistics](https://www.bioinformatics.babraham.ac.uk/projects/fastqc/Help/3%20Analysis%20Modules/1%20Basic%20Statistics.html)\n",
        "*   [Per base sequence quality](https://www.bioinformatics.babraham.ac.uk/projects/fastqc/Help/3%20Analysis%20Modules/2%20Per%20Base%20Sequence%20Quality.html)\n",
        "*   [Per base sequence content](https://www.bioinformatics.babraham.ac.uk/projects/fastqc/Help/3%20Analysis%20Modules/4%20Per%20Base%20Sequence%20Content.html)\n",
        "*   [Per sequence GC content](https://www.bioinformatics.babraham.ac.uk/projects/fastqc/Help/3%20Analysis%20Modules/5%20Per%20Sequence%20GC%20Content.html)\n",
        "*   [Per base N content](https://www.bioinformatics.babraham.ac.uk/projects/fastqc/Help/3%20Analysis%20Modules/6%20Per%20Base%20N%20Content.html)\n",
        "*   [Sequence length distribution](https://www.bioinformatics.babraham.ac.uk/projects/fastqc/Help/3%20Analysis%20Modules/7%20Sequence%20Length%20Distribution.html)\n",
        "*   [Duplicate Sequences](https://www.bioinformatics.babraham.ac.uk/projects/fastqc/Help/3%20Analysis%20Modules/8%20Duplicate%20Sequences.html)\n",
        "*   [Overrepresented Sequences](https://www.bioinformatics.babraham.ac.uk/projects/fastqc/Help/3%20Analysis%20Modules/9%20Overrepresented%20Sequences.html)\n",
        "*   [Adapter content](https://www.bioinformatics.babraham.ac.uk/projects/fastqc/Help/3%20Analysis%20Modules/10%20Adapter%20Content.html)\n",
        "*   [Kmer content](https://www.bioinformatics.babraham.ac.uk/projects/fastqc/Help/3%20Analysis%20Modules/11%20Kmer%20Content.html)\n",
        "*   [Per tile sequence quality](https://www.bioinformatics.babraham.ac.uk/projects/fastqc/Help/3%20Analysis%20Modules/12%20Per%20Tile%20Sequence%20Quality.html)\n"
      ]
    },
    {
      "cell_type": "markdown",
      "metadata": {
        "id": "dzKjsc_30R8X"
      },
      "source": [
        "Run fastQC from command line"
      ]
    },
    {
      "cell_type": "code",
      "execution_count": null,
      "metadata": {
        "id": "_AjKDOjT2SVY"
      },
      "outputs": [],
      "source": [
        "#Create a directory to store all FastQC results and run FastQC\n",
        "!mkdir Illumina_fastqc_results\n",
        "!fastqc -o Illumina_fastqc_results /content/Illumina_fastq/fastq/*"
      ]
    },
    {
      "cell_type": "markdown",
      "metadata": {
        "id": "1gIIXG21FFMC"
      },
      "source": [
        "As we did in the previous module, we can summarize the results of fastqc using multiqc"
      ]
    },
    {
      "cell_type": "code",
      "execution_count": null,
      "metadata": {
        "id": "SFcigAHOGW6o"
      },
      "outputs": [],
      "source": [
        "!multiqc -o /content/Illumina_fastqc_results/ /content/Illumina_fastqc_results/"
      ]
    },
    {
      "cell_type": "markdown",
      "metadata": {
        "id": "QWk2zIA82W7s"
      },
      "source": [
        "This will create an HTML result file (`multiqc_report`) with a summary of FastQC reports.\n",
        "\n",
        "Navigate the results for each file and report:\n",
        "\n",
        "> **Which sample has more reads?**\n",
        "\n",
        "> **Is there any distribution of sequences sizes?**"
      ]
    },
    {
      "cell_type": "markdown",
      "metadata": {
        "id": "gEyqKnBS0NmF"
      },
      "source": [
        "# Nanopore QC"
      ]
    },
    {
      "cell_type": "markdown",
      "metadata": {
        "id": "aIgMW36I562h"
      },
      "source": [
        "Run fastQC from command line (actually, for Nanopore, FastQC is not a good choice)"
      ]
    },
    {
      "cell_type": "code",
      "execution_count": null,
      "metadata": {
        "id": "ow3nIVgNa0B_"
      },
      "outputs": [],
      "source": [
        "!mkdir Nanopore_FastQC_report\n",
        "!fastqc -o Nanopore_FastQC_report /content/Nanopore_READS/nanopore_fastq/barcode*/*"
      ]
    },
    {
      "cell_type": "code",
      "execution_count": null,
      "metadata": {
        "id": "6B57EggvPnOC"
      },
      "outputs": [],
      "source": [
        "!multiqc -o /content/Nanopore_FastQC_report/ /content/Nanopore_FastQC_report/"
      ]
    },
    {
      "cell_type": "markdown",
      "metadata": {
        "id": "kofR4BYv5msu"
      },
      "source": [
        "Running NanoPlot for Nanopore data "
      ]
    },
    {
      "cell_type": "code",
      "execution_count": null,
      "metadata": {
        "id": "igxrTMCETY5r"
      },
      "outputs": [],
      "source": [
        "!NanoPlot -o nanoplot_output --fastq_rich /content/Nanopore_READS/nanopore_fastq/barcode*/*.fastq.gz "
      ]
    },
    {
      "cell_type": "markdown",
      "metadata": {
        "id": "hgXG-7xyE5LV"
      },
      "source": [
        "The output will be in the folder nanoplot_output. Download the file `NanoPlot-report.html` and browse the results.\n",
        "\n",
        "---\n",
        "\n",
        "\n",
        "> **How many reads are in total?**\n",
        "\n",
        "> **Which is the average read size?**\n",
        "\n",
        "> **How does this compares with Illumina results?**\n",
        "\n",
        "\n"
      ]
    },
    {
      "cell_type": "markdown",
      "metadata": {
        "id": "iqqIK87iQ4CG"
      },
      "source": [
        "We don't do any trimming because the pipelines we'll use do this for use. See you on the next notebook..."
      ]
    }
  ],
  "metadata": {
    "colab": {
      "collapsed_sections": [],
      "provenance": []
    },
    "kernelspec": {
      "display_name": "Python 3",
      "name": "python3"
    }
  },
  "nbformat": 4,
  "nbformat_minor": 0
}
