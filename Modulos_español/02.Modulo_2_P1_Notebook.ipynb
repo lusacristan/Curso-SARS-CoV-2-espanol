{
  "cells": [
    {
      "cell_type": "markdown",
      "metadata": {
        "id": "JyG45Qk3qQLS"
      },
      "source": [
        "# Control de calidad (QC) inicial de genomas obtenidos por secuenciación Nanopore  e ilumina\n",
        "En este notebook analizaremos los resultados de  secuenciación utilizando dos enfoques para la secuenciación del genoma de SARS-CoV-2. Ambos se basan en el **ARTIC protocol** desarrollado por [Artic Network] (https://artic.network/ncov-2019). Para Illumina, corresponde al protocolo Classic Artic, que amplifica el genoma SARS-CoV-2 en 98 fragmentos de 400 pb cada uno. Para Nanopore, el protocolo usado se llama **\"Midnight Protocol\"** y se basa en la amplificación de 29 fragmentos superpuestos de 1200 pb que cubren todo el genoma SARS-CoV-2 SARS-CoV-2.\n",
        "El contenido del notebook se puede resumir en:\n",
        "\n",
        "* Descargar datos\n",
        "* Instalar software y preparar el entorno\n",
        "* Ejecutar el control de calidad de la secuenciación\n"
      ]
    },
    {
      "cell_type": "markdown",
      "metadata": {
        "id": "XpZkbJoJ0aWW"
      },
      "source": [
        "### Descargar datos"
      ]
    },
    {
      "cell_type": "code",
      "execution_count": null,
      "metadata": {
        "id": "ygMYpaDw0YnB"
      },
      "outputs": [],
      "source": [
        "!wget https://zenodo.org/records/10681134/files/module_2.tar.gz"
      ]
    },
    {
      "cell_type": "markdown",
      "metadata": {},
      "source": [
        "### Extraer los archivos .tar.gz"
      ]
    },
    {
      "cell_type": "code",
      "execution_count": null,
      "metadata": {},
      "outputs": [],
      "source": [
        "!tar xvf module_2.tar.gz"
      ]
    },
    {
      "cell_type": "markdown",
      "metadata": {
        "id": "33ZISlFh92bZ"
      },
      "source": [
        "### Instalar condacolab"
      ]
    },
    {
      "cell_type": "code",
      "execution_count": null,
      "metadata": {
        "id": "jymSg1rN92Ak"
      },
      "outputs": [],
      "source": [
        "!pip install -q condacolab\n",
        "import condacolab\n",
        "condacolab.install()"
      ]
    },
    {
      "cell_type": "markdown",
      "metadata": {
        "id": "fsIZH9hN5Ynw"
      },
      "source": [
        "### Instalar software"
      ]
    },
    {
      "cell_type": "code",
      "execution_count": null,
      "metadata": {
        "id": "XcKwQKXw5X-n"
      },
      "outputs": [],
      "source": [
        "# Instalar fastqc\n",
        "!conda install -c bioconda fastqc"
      ]
    },
    {
      "cell_type": "code",
      "execution_count": null,
      "metadata": {},
      "outputs": [],
      "source": [
        "# Instalar nanoplot\n",
        "!conda install -c bioconda nanoplot"
      ]
    },
    {
      "cell_type": "code",
      "execution_count": null,
      "metadata": {
        "id": "lHsg9XFHEsO8"
      },
      "outputs": [],
      "source": [
        "#Instalar multiqc\n",
        "!pip install multiqc"
      ]
    },
    {
      "cell_type": "markdown",
      "metadata": {
        "id": "cCKzvpK9yzmt"
      },
      "source": [
        "### Recordemos el formato FASTQ\n",
        "\n",
        "Todos los secuenciadores producen datos en un formato llamado **FASTQ**. A coninuación verá la estructura del formato. Todas las secuencias FASTQ están representadas por 4 líneas:\n",
        "\n",
        "```\n",
        "@SEQ_ID                   <---- SEQUENCE NAME\n",
        "AGCGTGTACTGTGCATGTCGATG   <---- SEQUENCE AS BASES\n",
        "+                         <---- SEPARATOR LINE\n",
        "%%).1***-+*''))**55CCFF   <---- ASCII QUALITY SCORES\n",
        "\n",
        "```\n",
        "\n",
        "La calidad de las secuencias se representa como un carácter del código ASCII. Revise [aquí](https://support.illumina.com/help/basespace_olh_009008/content/source/informatics/bs/qualityscoreencoding_swbs.htm) para una explicación más detallada.\n",
        "Los valores numéricos corresponden a los valores de calidad de Phred"
      ]
    },
    {
      "cell_type": "markdown",
      "metadata": {
        "id": "97-AF1JnuR_4"
      },
      "source": [
        "# Illumina QC\n",
        "\n",
        "Usaremos el software [fastQC] (https://www.bioinformatics.babraham.ac.uk/projects/fastqc/) para el análisis de los resultados de secuenciación de Illumina. FastQC ejecuta una serie de análisis de archivos FASTQ e informa los resultados como un archivo html que abre en un navegador. Para obtener ayuda en cualquiera de las secciones, consulte los siguientes enlaces.\n",
        "\n",
        "*   [Basic statitistics](https://www.bioinformatics.babraham.ac.uk/projects/fastqc/Help/3%20Analysis%20Modules/1%20Basic%20Statistics.html)\n",
        "*   [Per base sequence quality](https://www.bioinformatics.babraham.ac.uk/projects/fastqc/Help/3%20Analysis%20Modules/2%20Per%20Base%20Sequence%20Quality.html)\n",
        "*   [Per base sequence content](https://www.bioinformatics.babraham.ac.uk/projects/fastqc/Help/3%20Analysis%20Modules/4%20Per%20Base%20Sequence%20Content.html)\n",
        "*   [Per sequence GC content](https://www.bioinformatics.babraham.ac.uk/projects/fastqc/Help/3%20Analysis%20Modules/5%20Per%20Sequence%20GC%20Content.html)\n",
        "*   [Per base N content](https://www.bioinformatics.babraham.ac.uk/projects/fastqc/Help/3%20Analysis%20Modules/6%20Per%20Base%20N%20Content.html)\n",
        "*   [Sequence length distribution](https://www.bioinformatics.babraham.ac.uk/projects/fastqc/Help/3%20Analysis%20Modules/7%20Sequence%20Length%20Distribution.html)\n",
        "*   [Duplicate Sequences](https://www.bioinformatics.babraham.ac.uk/projects/fastqc/Help/3%20Analysis%20Modules/8%20Duplicate%20Sequences.html)\n",
        "*   [Overrepresented Sequences](https://www.bioinformatics.babraham.ac.uk/projects/fastqc/Help/3%20Analysis%20Modules/9%20Overrepresented%20Sequences.html)\n",
        "*   [Adapter content](https://www.bioinformatics.babraham.ac.uk/projects/fastqc/Help/3%20Analysis%20Modules/10%20Adapter%20Content.html)\n",
        "*   [Kmer content](https://www.bioinformatics.babraham.ac.uk/projects/fastqc/Help/3%20Analysis%20Modules/11%20Kmer%20Content.html)\n",
        "*   [Per tile sequence quality](https://www.bioinformatics.babraham.ac.uk/projects/fastqc/Help/3%20Analysis%20Modules/12%20Per%20Tile%20Sequence%20Quality.html)\n"
      ]
    },
    {
      "cell_type": "markdown",
      "metadata": {
        "id": "dzKjsc_30R8X"
      },
      "source": [
        "Ejecute FastQC desde la línea de comandos"
      ]
    },
    {
      "cell_type": "code",
      "execution_count": null,
      "metadata": {
        "id": "_AjKDOjT2SVY"
      },
      "outputs": [],
      "source": [
        "#Cree un directorio para almacenar todos los resultados de FastQC y ejecutar FastQC\n",
        "!mkdir Illumina_fastqc_results\n",
        "!fastqc -o Illumina_fastqc_results /content/module_2/illumina/*"
      ]
    },
    {
      "cell_type": "markdown",
      "metadata": {
        "id": "1gIIXG21FFMC"
      },
      "source": [
        "Como lo hicimos en el módulo anterior, podemos resumir los resultados de FASTQC usando MultiQC"
      ]
    },
    {
      "cell_type": "code",
      "execution_count": null,
      "metadata": {
        "id": "SFcigAHOGW6o"
      },
      "outputs": [],
      "source": [
        "!multiqc -o /content/Illumina_fastqc_results/ /content/Illumina_fastqc_results/"
      ]
    },
    {
      "cell_type": "markdown",
      "metadata": {
        "id": "QWk2zIA82W7s"
      },
      "source": [
        "Esto creará un archivo de resultados HTML (`Multiqc_report`) con un resumen de los informes de FastQC.\n",
        "\n",
        "Revise los resultados para cada archivo e informe:\n",
        "\n",
        "> **¿Qué muestra tiene más lecturas?**\n",
        "\n",
        "> **¿Cuál es el tamaño promedio de reads de la muestra SRR19903797?**"
      ]
    },
    {
      "cell_type": "markdown",
      "metadata": {
        "id": "gEyqKnBS0NmF"
      },
      "source": [
        "# Nanopore QC"
      ]
    },
    {
      "cell_type": "markdown",
      "metadata": {
        "id": "aIgMW36I562h"
      },
      "source": [
        "Ejecute FastQC desde la línea de comandos (en realidad, para nanopore, FastQC no es una buena opción)"
      ]
    },
    {
      "cell_type": "code",
      "execution_count": null,
      "metadata": {
        "id": "ow3nIVgNa0B_"
      },
      "outputs": [],
      "source": [
        "!mkdir Nanopore_FastQC_report\n",
        "!fastqc -o Nanopore_FastQC_report /content/module_2/nanopore/*"
      ]
    },
    {
      "cell_type": "code",
      "execution_count": null,
      "metadata": {
        "id": "6B57EggvPnOC"
      },
      "outputs": [],
      "source": [
        "!multiqc -o /content/Nanopore_FastQC_report/ /content/Nanopore_FastQC_report/"
      ]
    },
    {
      "cell_type": "markdown",
      "metadata": {
        "id": "kofR4BYv5msu"
      },
      "source": [
        "Ejecución de NanoPlot para datos de nanopore"
      ]
    },
    {
      "cell_type": "code",
      "execution_count": null,
      "metadata": {
        "id": "igxrTMCETY5r"
      },
      "outputs": [],
      "source": [
        "!NanoPlot -o nanoplot_output --fastq /content/module_2/nanopore/*.fastq.gz "
      ]
    },
    {
      "cell_type": "markdown",
      "metadata": {
        "id": "hgXG-7xyE5LV"
      },
      "source": [
        " La salida estará en la carpeta NanoPlot_output. Descargue el archivo `nanoplot-report.html` y explore los resultados.\n",
        "\n",
        "\n",
        "> **¿Cuántas lecturas hay en total?**\n",
        "\n",
        "> **¿Cuál es el tamaño de lectura promedio?**"
      ]
    },
    {
      "cell_type": "markdown",
      "metadata": {},
      "source": [
        "*Modificado por Luisa Sacristán (Universidad de los Andes-CABANA)*"
      ]
    }
  ],
  "metadata": {
    "colab": {
      "collapsed_sections": [],
      "provenance": []
    },
    "kernelspec": {
      "display_name": "Python 3",
      "name": "python3"
    }
  },
  "nbformat": 4,
  "nbformat_minor": 0
}
