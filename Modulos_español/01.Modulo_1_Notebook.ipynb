{
  "cells": [
    {
      "cell_type": "markdown",
      "metadata": {
        "id": "VZpWDT_qK5mE"
      },
      "source": [
        "# Módulo 1: Introducción a Jupyter Notebooks y unix\n",
        "\n",
        "## ¡Bienvenido al curso!Hay algunas instrucciones muy importantes para que debe seguir:\n",
        "\n",
        "1.) Haga clic en el archivo en la esquina superior izquierda y seleccione Guardar una copia en la unidad\n",
        "\n",
        ">**Sus cambios no se guardarán si no hace este paso**\n",
        "\n",
        "2.) Haga clic en el nombre del libro de trabajo en la esquina superior izquierda y reemplace \"Copia de\" \n",
        "\n"
      ]
    },
    {
      "cell_type": "markdown",
      "metadata": {
        "id": "HkAHdwWUJKoZ"
      },
      "source": [
        "Por favor escriba: \n",
        "```\n",
        "print(\"Si, he hecho el paso 1\") \n",
        "```\n",
        "en el bloque de código a continuación, luego ejecute haciendo clic en el icono \"Triángulo\"/\"Play\" en ese bloque\n",
        "\n"
      ]
    },
    {
      "cell_type": "code",
      "execution_count": null,
      "metadata": {
        "id": "lza1ngCWKHbX"
      },
      "outputs": [],
      "source": [
        "#Bloque"
      ]
    },
    {
      "cell_type": "markdown",
      "metadata": {
        "id": "l166Rx0ZKLqh"
      },
      "source": [
        "Por favor escriba: \n",
        "```\n",
        "print(\"Sí, he completado el paso 2\") \n",
        "```\n",
        "en el bloque de código a continuación, luego ejecute haciendo clic en el icono \"Triángulo\"/\"Play\" en ese bloque\n"
      ]
    },
    {
      "cell_type": "code",
      "execution_count": null,
      "metadata": {
        "id": "nsufot4fKS01"
      },
      "outputs": [],
      "source": [
        "#Bloque"
      ]
    },
    {
      "cell_type": "markdown",
      "metadata": {
        "id": "G7mk1VecOHLQ"
      },
      "source": [
        "## Instalando Conda\n",
        "Conda es una herramienta de gestión de software versátil. Conda es un sistema de código abierto para gestionar herramientas y bibliotecas. Más información sobre la biblioteca utilizada para instalar Conda en Google Colab está en este [website](https://inside-machinelearning.com/en/how-to-install-use-conda-on-google-colab/)\n",
        "\n",
        "> Nota: el entorno de ejecución se actualizará y volverá a conectar después de ejecutar esto. Puede que aparezca un mensaje de \"entorno de ejecución fallido\", esto es normal, espere a que la sesión se vuelva a conectar después de esto.\n",
        "\n",
        "\n",
        "Puede revisar este repositorio para ver cómo funciona esta herramienta:\n",
        "https://github.com/conda-incubator/condacolab \n"
      ]
    },
    {
      "cell_type": "code",
      "execution_count": null,
      "metadata": {
        "id": "jOTBUZ3gOFm3"
      },
      "outputs": [],
      "source": [
        "!pip install -q condacolab\n",
        "import condacolab\n",
        "condacolab.install()"
      ]
    },
    {
      "cell_type": "markdown",
      "metadata": {
        "id": "MY1JBynBfoUT"
      },
      "source": [
        "# Módulo 1 Parte 1 - Introducción a notebooks y Unix\n",
        "La Parte 1 del módulo 1 comienza aquí."
      ]
    },
    {
      "cell_type": "markdown",
      "metadata": {
        "id": "p5SImQk-LGMe"
      },
      "source": [
        "## Python vs Bash\n",
        "\n",
        "### Diferencias clave para trabajar en Google Colab\n",
        "\n",
        "Las principales diferencias son usar un `!` cuando se quiere ejecutar comandos bash. No ponga eso cuando quiera ejecutar Python."
      ]
    },
    {
      "cell_type": "code",
      "execution_count": null,
      "metadata": {
        "id": "dvo4cVYzKyzY"
      },
      "outputs": [],
      "source": [
        "#Ejemplo de Python\n",
        "print(\"Este es un comando python\")"
      ]
    },
    {
      "cell_type": "code",
      "execution_count": null,
      "metadata": {
        "id": "1yjkW5M7LbMz"
      },
      "outputs": [],
      "source": [
        "#Ejemplo de Bash\n",
        "!echo \"Este es un comando bash\""
      ]
    },
    {
      "cell_type": "markdown",
      "metadata": {
        "id": "3NH2ZaGwIuqP"
      },
      "source": [
        "Si olvida usar el símbolo `!` , causará un error, ya que Python probablemente no podrá interpretar su comando bash: intente ejecutar la celda a continuación"
      ]
    },
    {
      "cell_type": "code",
      "execution_count": null,
      "metadata": {
        "colab": {
          "base_uri": "https://localhost:8080/",
          "height": 130
        },
        "id": "HRf3XhgVF1xT",
        "outputId": "c18707cc-9965-4faf-ea01-f576787ac6d9"
      },
      "outputs": [],
      "source": [
        "#Ejemplo de olvidar ! al intentar ejecutar Bash\n",
        "echo \"Este es un comando bash\""
      ]
    },
    {
      "cell_type": "markdown",
      "metadata": {
        "id": "O1gj_VJ8JRns"
      },
      "source": [
        "Esto creará un error llamado `\"syntax error\"`\n",
        "\n",
        "Si le aparece, no se preocupe y verifique que el ! está en su lugar. Este curso mostrará principalmente ejemplos y solicitará comandos en Bash. \n",
        "\n",
        "> Nota: Python es un lenguaje poderoso para el procesamiento de datos, y aunque no lo exploramos en este curso, es posible que el desarrollo de sus habilidades en Python y Bash sea muy útil para sus proyectos bioinformáticos.\n"
      ]
    },
    {
      "cell_type": "markdown",
      "metadata": {
        "id": "lnarH4fDef7E"
      },
      "source": [
        "## Trabajando en BASH\n",
        "Este curso utilizará principalmente BASH para ejecutar comandos y tareas. Hay algunos ejemplos de Python más tarde que son opcionales. Las siguientes secciones introducirán los conceptos básicos de trabajar con Bash y las estructuras de archivos de un sistema UNIX\n",
        "\n",
        "Los siguientes ejemplos fueron hechos por Srikeerthana Kuchi (Univ. Of Glasgow) - https://github.com/WCSCourses/ViralBioinfAsia2022/blob/main/Modules/Intro_to_linux_text_processing.pdf \n"
      ]
    },
    {
      "cell_type": "code",
      "execution_count": null,
      "metadata": {
        "id": "-VDjqQr8jQzF"
      },
      "outputs": [],
      "source": [
        "#Bloques para Bash desde aquí"
      ]
    },
    {
      "cell_type": "code",
      "execution_count": null,
      "metadata": {
        "id": "8FsDUDXAqGXr"
      },
      "outputs": [],
      "source": [
        "%cd /content/\n",
        "!wget https://wcs_data_transfer.cog.sanger.ac.uk/Introduction_to_Linux_Unix_Text_processing.zip ; unzip Introduction_to_Linux_Unix_Text_processing.zip"
      ]
    },
    {
      "cell_type": "markdown",
      "metadata": {
        "id": "6Wqk_GqgF3_l"
      },
      "source": [
        "### Gestión de directorios\n",
        "\n",
        "Los directorios son el equivalente de UNIX de las carpetas en una PC o Mac. Están organizados en una jerarquía, por lo que los directorios pueden tener subdirectorios, etc. Los directorios son muy útiles para organizar su trabajo y mantener su cuenta ordenada; por ejemplo, si tiene más de un proyecto, puede organizar los archivos para cada proyecto en diferentes directorios para mantenerlos separados. Puede pensar en directorios como habitaciones en una casa. Solo puede estar en una habitación (directorio) a la vez. Cuando está en una habitación, puede ver todo en esa habitación fácilmente. Para ver las cosas en otras habitaciones, debe ir a la puerta apropiada. UNIX funciona de manera similar, pasando de directorio a directorio para acceder a los archivos. La ubicación o directorio en el que se encuentra se conoce como el directorio de trabajo actual."
      ]
    },
    {
      "cell_type": "code",
      "execution_count": null,
      "metadata": {
        "id": "4WYbAqPDLicJ"
      },
      "outputs": [],
      "source": [
        "!mkdir new_folder"
      ]
    },
    {
      "cell_type": "code",
      "execution_count": null,
      "metadata": {
        "id": "xPR2qI0_te4o"
      },
      "outputs": [],
      "source": [
        "!touch new_file"
      ]
    },
    {
      "cell_type": "code",
      "execution_count": null,
      "metadata": {
        "id": "qV5T6aAhtjC9"
      },
      "outputs": [],
      "source": [
        "!ls"
      ]
    },
    {
      "cell_type": "markdown",
      "metadata": {
        "id": "cKbx1QwpuWwR"
      },
      "source": [
        "Todos los comandos de Linux son palabras individuales (pueden ser alfa-numéricas), con parámetros opcionales seguidos de argumentos. Por razones históricas, algunos de los primeros comandos tienen solo dos letras. La mayoría de las opciones de comando (también llamadas banderas o flags) son letras individuales. Deben especificarse después del comando y antes de especificar cualquier entrada.\n",
        "\n",
        "\"ls\" es el comando para listar el contenido del directorio, \"-l\" es la opción para un listado largo y \"Exercises\" es la entrada, que es opcional en este caso. Sin la entrada, \"ls\"  solo muestra el contenido del directorio actual (Escriba \"ls -l\")."
      ]
    },
    {
      "cell_type": "code",
      "execution_count": null,
      "metadata": {
        "collapsed": true,
        "id": "iekMN3ypuaHj"
      },
      "outputs": [],
      "source": [
        "!ls -l"
      ]
    },
    {
      "cell_type": "code",
      "execution_count": null,
      "metadata": {
        "id": "RKYP4pFVtjKg"
      },
      "outputs": [],
      "source": [
        "!cat new_file"
      ]
    },
    {
      "cell_type": "code",
      "execution_count": null,
      "metadata": {
        "id": "U9xIGYb2t0mq"
      },
      "outputs": [],
      "source": [
        "# Comandos como \"less\" se comportarán extrañamente en el sistema Colab\n",
        "# Deberá encontrar una caja blanca en la parte inferior de la ventana de la celda y escribir q en ella, luego presione Enter para detener esta celda en funcionamiento\n",
        "# Esto se debe a que less es un comando interactivo, y para imitar la \"pantalla\" de un terminal Unix, Colab usa una celda interactiva\n",
        "# Este es también el caso de otros comandos interactivos como VI, Nano, Vim, etc.\n",
        "#NB Esta celda no se detendrá si no lo hace, lo que hace que otras celdas esperen y se pongan en cola si lo hace\n",
        "#Puede detener una celda con el círculo de reproducción/parada, o utilizando la pestaña de comando de tiempo de ejecución\n",
        "\n",
        "!less new_file"
      ]
    },
    {
      "cell_type": "markdown",
      "metadata": {
        "id": "Tm_rGL5Dxu_w"
      },
      "source": [
        "Escribir nombres de archivos más largos puede ser aburrido y es probable que cometa errores tipográficos que, en el mejor de los casos, hagan que su comando falle con un error extraño y, en el peor de los casos, sobrescribirá algunos de sus análisis cuidadosamente diseñados. La compeción del Tab es un truco que normalmente reduce este riesgo significativamente. En lugar de escribir `ls interesante_stuff/`, intente escribir `ls int` y presione el botón de Tab (en lugar de enter). Se debe enumerar el resto de la/los carpeta/nombres de archivo que comienzan con \"int\". Si tiene dos carpetas/archivos con nombres similares (por ejemplo, my_awesome_scripts/y my_awesome_results/), entonces es posible que deba darle a su terminal un poco de mano para resolver cuál desea. En este caso, si escribe `ls –l m`, cuando presione Tab, la terminal leería `ls –l my_awesome_`.Luego podría escribir \"s\" seguido de otro Tab y descubriría que se refería a \"my_awesome_scripts/\"."
      ]
    },
    {
      "cell_type": "code",
      "execution_count": null,
      "metadata": {
        "id": "PiWjKuEVyCLb"
      },
      "outputs": [],
      "source": [
        "#Practique el uso del Tab ingresando el código a continuación"
      ]
    },
    {
      "cell_type": "markdown",
      "metadata": {
        "id": "hI8Ld-pDyQvx"
      },
      "source": [
        "### Puntos a considerar\n",
        "\n",
        "* Los comandos de Linux son sensibles a mayúsculas y siempre palabras\n",
        "* Las opciones siguen el comando, y comienzan con un solo guión ( -) y un caracter o un doble guión (--) y una palabra\n",
        "* Se pueden combinar las opciones de caracteres individuales\n",
        "* El argumento puede ser una o más entradas\n",
        "* Puede escribir más de un comando que se separe con un punto y coma;\n",
        "Puede usar la tecla de tecla \"Tab\" para autocompletar el comando.\n",
        "\n",
        "\n"
      ]
    },
    {
      "cell_type": "code",
      "execution_count": null,
      "metadata": {
        "id": "N0R88pMezAMU"
      },
      "outputs": [],
      "source": [
        "ls -l"
      ]
    },
    {
      "cell_type": "markdown",
      "metadata": {
        "id": "tw9LjP_jzFHZ"
      },
      "source": [
        "De los resultados anteriores\n",
        "\n",
        "Información (de izquierda a derecha):\n",
        "* Permisos de archivo\n",
        "* Número de enlaces\n",
        "* Nombre del dueño\n",
        "* Nombre del grupo\n",
        "* Número de bytes\n",
        "* Mes abreviado, última fecha y hora modificadas\n",
        "* Nombre de archivo/directorio"
      ]
    },
    {
      "cell_type": "markdown",
      "metadata": {
        "id": "aNyBTzGaz4cX"
      },
      "source": [
        "### Otros comandos útiles"
      ]
    },
    {
      "cell_type": "markdown",
      "metadata": {
        "id": "4-IjRzZFzbBd"
      },
      "source": [
        "#### pwd (print working directory)\n",
        "Devuelve la ruta del directorio de trabajo actual a la salida estándar.\n"
      ]
    },
    {
      "cell_type": "code",
      "execution_count": null,
      "metadata": {
        "id": "GOC_qoW7zfzq"
      },
      "outputs": [],
      "source": [
        "!pwd"
      ]
    },
    {
      "cell_type": "markdown",
      "metadata": {
        "id": "r83lt8MCzmsK"
      },
      "source": [
        "#### cd change directory\n",
        "\n",
        "Cambiar el directorio de trabajo actual al directorio especificado.\n",
        "\n",
        "**En este caso se utiliza % antes del comando cd**"
      ]
    },
    {
      "cell_type": "code",
      "execution_count": null,
      "metadata": {
        "id": "eiGcUydo0uSb"
      },
      "outputs": [],
      "source": [
        "!ls"
      ]
    },
    {
      "cell_type": "code",
      "execution_count": null,
      "metadata": {
        "id": "FbKeIZH2zrcZ"
      },
      "outputs": [],
      "source": [
        "%cd new_folder/\n",
        "!pwd"
      ]
    },
    {
      "cell_type": "markdown",
      "metadata": {
        "id": "fEUB41xn2HVP"
      },
      "source": [
        "#### mkdir make directory\n",
        "Este comando crea un directorio en el directorio de trabajo actual si no existe ningún directorio con el nombre especificado."
      ]
    },
    {
      "cell_type": "code",
      "execution_count": null,
      "metadata": {
        "id": "qrIbxC9d2Hve"
      },
      "outputs": [],
      "source": [
        "!mkdir Test_folder\n",
        "!ls -l"
      ]
    },
    {
      "cell_type": "markdown",
      "metadata": {
        "id": "o6Cf7D3N2H66"
      },
      "source": [
        "#### rmdir remove directory\n",
        "Este comando se utiliza para eliminar directorios. Pruebe esto a continuación y vea si puede observar la carpeta que desaparece."
      ]
    },
    {
      "cell_type": "code",
      "execution_count": null,
      "metadata": {
        "id": "_FUa8iOY2IKE"
      },
      "outputs": [],
      "source": [
        "!rmdir Test_folder/\n",
        "!ls -l"
      ]
    },
    {
      "cell_type": "markdown",
      "metadata": {
        "id": "bfUf8akK29xT"
      },
      "source": [
        "#### touch\n",
        "Es el comando de cambio de marca de tiempo de archivo. Sin embargo, se puede usar para crear un archivo vacío. Este comando se usa generalmente para verificar si hay un permiso de escritura para el usuario actual."
      ]
    },
    {
      "cell_type": "code",
      "execution_count": null,
      "metadata": {
        "id": "dScFOBl729-B"
      },
      "outputs": [],
      "source": [
        "!touch temp-file\n",
        "!ls -l"
      ]
    },
    {
      "cell_type": "markdown",
      "metadata": {
        "id": "XX5wr3zu2-I_"
      },
      "source": [
        "#### rm remove\n",
        "rm se utiliza para eliminar archivos y directorios. Pruebe esto a continuación para eliminar el archivo que acabamos de crear."
      ]
    },
    {
      "cell_type": "code",
      "execution_count": null,
      "metadata": {
        "id": "3e_jtT3c2-XD"
      },
      "outputs": [],
      "source": [
        "!rm temp-file\n",
        "!ls -l"
      ]
    },
    {
      "cell_type": "markdown",
      "metadata": {
        "id": "oPqtI7IO3cSm"
      },
      "source": [
        "### POR FAVOR TENGA CUIDADO\n",
        "\n",
        "> **Recuerde que una vez que se elimine un archivo o directorio, no irá a \"papelera de reciclaje\" en Linux y no hay forma de que pueda recuperarlo.**"
      ]
    },
    {
      "cell_type": "markdown",
      "metadata": {
        "id": "mFYYI4323sJm"
      },
      "source": [
        "#### cp Copy\n",
        "Copia el contenido del archivo/directorio de origen al archivo de destino/directorio. Para copiar directorios, use la opción `-r`."
      ]
    },
    {
      "cell_type": "code",
      "execution_count": null,
      "metadata": {
        "id": "BgpSHuPJ3sU1"
      },
      "outputs": [],
      "source": [
        " !touch temp1\n",
        " !cp temp1 temp2\n",
        " !ls -l"
      ]
    },
    {
      "cell_type": "markdown",
      "metadata": {
        "id": "PC3h6cUL4C_8"
      },
      "source": [
        "#### mv Move\n",
        "\n",
        "Para mover/cambiar el nombre de un archivo o un directorio."
      ]
    },
    {
      "cell_type": "code",
      "execution_count": null,
      "metadata": {
        "id": "Cm8mAcsd4Cku"
      },
      "outputs": [],
      "source": [
        " !mkdir temp\n",
        " !mv temp1 temp/.\n",
        " !mv temp2 temp3\n",
        "!ls -l"
      ]
    },
    {
      "cell_type": "markdown",
      "metadata": {
        "id": "hsUoxgtu4XMk"
      },
      "source": [
        "El segundo comando mueve el archivo \"temp1\" al directorio \"temp\".El \".\"(punto) al final del comando conserva el nombre del archivo, mientras que el tercer comando renombra el archivo \"temp2\" a \"temp3\"."
      ]
    },
    {
      "cell_type": "markdown",
      "metadata": {
        "id": "yK27MJL14xuG"
      },
      "source": [
        "### Visualizadores de archivos"
      ]
    },
    {
      "cell_type": "markdown",
      "metadata": {
        "id": "LLYLZmZp4x9X"
      },
      "source": [
        "#### cat Concatenate\n",
        "El comando Concatenate combina archivos (secuencialmente) e imprime en la pantalla (salida estándar)."
      ]
    },
    {
      "cell_type": "code",
      "execution_count": null,
      "metadata": {
        "id": "MCnSUCb0r4so"
      },
      "outputs": [],
      "source": [
        "!pwd\n"
      ]
    },
    {
      "cell_type": "code",
      "execution_count": null,
      "metadata": {
        "id": "pA--U9Yq4-Xy"
      },
      "outputs": [],
      "source": [
        "!cat /content/Introduction_to_Linux_Unix_Text_processing/SARS-CoV-2.fa"
      ]
    },
    {
      "cell_type": "markdown",
      "metadata": {
        "id": "VrR_apXW5Fqa"
      },
      "source": [
        "#### more/less\n",
        "Estos comandos se utilizan para ver el contenido de los archivos; más rápido con archivos de entrada grandes que los editores de texto; No se lee todo el archivo al principio.Presione \"Enter\" para ver las líneas más y `q` para salir del programa.\n"
      ]
    },
    {
      "cell_type": "code",
      "execution_count": null,
      "metadata": {
        "id": "9ziSK7QM5F5I"
      },
      "outputs": [],
      "source": [
        "!more /content/Introduction_to_Linux_Unix_Text_processing/SARS-CoV-2.fa"
      ]
    },
    {
      "cell_type": "markdown",
      "metadata": {
        "id": "krrjHAKj5RSn"
      },
      "source": [
        "#### head/tail\n",
        "Estos comandos muestran las primeras/últimas 10 líneas (predeterminadas) respectivamente de un archivo."
      ]
    },
    {
      "cell_type": "code",
      "execution_count": null,
      "metadata": {
        "id": "IidONJu75Rh-"
      },
      "outputs": [],
      "source": [
        "!head /content/Introduction_to_Linux_Unix_Text_processing/SARS-CoV-2.gb"
      ]
    },
    {
      "cell_type": "markdown",
      "metadata": {
        "id": "k-GU1-_U5l-w"
      },
      "source": [
        "### Editores de archivos\n",
        "Hay muchos editores de texto no gráficos como Ed, Emacs, VI y Nano disponibles en la mayoría de las distribuciones de Linux. Algunos de ellos son muy sofisticados (por ejemplo, vi) y para usuarios avanzados.\n",
        "Nano (antes llamado pico) es como cualquier editor gráfico sin mouse. Todos los comandos se ejecutan usando el teclado, utilizando el modificador de teclas <ctrl>.Se puede usar para editar prácticamente cualquier tipo de archivo de texto desde la línea de comando. Nano sin el nombre de archivo le brinda una ventana Nano estándar (en blanco).\n",
        "En la parte inferior de la pantalla, hay comandos con un símbolo al frente. El símbolo dice que debe mantener presionada la tecla Control (Ctrl) y luego presionar la letra correspondiente del comando que desea usar.\n",
        "Ctrl+X lo sacará de Nano y lo devolverá a la línea de comando.\n",
        "\n",
        "Referencia rápida en Nano\n",
        "* Ctrl+x: Salir del editor. Si ha editado texto sin guardar, se le solicitará si realmente desea salir.\n",
        "* Ctrl+O: Escribir el contenido actual del texto en un archivo. Aparecerá un mensaje de nombre de archivo; Presione Ctrl+T para abrir el navegador de archivos que se muestra arriba.\n",
        "* Ctrl+R: Leer un archivo de texto en la sesión de edición actual. En la solicitud del nombre de archivo, presione Ctrl+T: para el archivo navegador de archivos.\n",
        "* Ctrl+K: Cortar una línea en el portapapeles. Puede presionar esto repetidamente para copiar varias líneas y luego se almacenan como un fragmento.\n",
        "* Ctrl+J: Justificar (rellenar) un párrafo de texto. Por defecto, esto ajusta el texto para que coincida con el ancho de la ventana de edición.\n",
        "* Ctrl+U: Texto sin cortar, o más bien, péguelo desde el portapapeles. Tenga en cuenta que después de una operación de justificación, esto se convierte en injustificar.\n",
        "* CTRL+T: Vericar la ortografía.\n",
        "* Ctrl+W: Buscar una palabra o frase. En el indicador, usa las teclas de cursor para revisar términos de búsqueda anteriores, o presiona Ctrl+R para entrar en el modo de reemplazo. Alternativamente, puedes presionar Ctrl+T para ir a una línea específica.\n",
        "* Ctrl+C: Mostrar número de línea actual e información del archivo.\n",
        "* Ctrl+G: Obtener ayuda; esto proporciona información sobre cómo navegar por los archivos y comandos de teclado comunes.\n",
        "\n"
      ]
    },
    {
      "cell_type": "markdown",
      "metadata": {
        "id": "1j39YRNB5pOq"
      },
      "source": [
        "### Obtener ayuda en Linux\n",
        "Todos los comandos de Linux tienen manuales. Para acceder a ellos, use el comando `man` o `info`. EL manual ofrece una explicación detallada del comando, todas las opciones disponibles y, a veces, también proporciona ejemplos. Por ejemplo, para ver el manual el comando `ls`\n",
        "\n",
        "Escriba: `man ls`\n",
        "\n",
        "LS(1) User Commands\n",
        "\n",
        "NAME\n",
        "\n",
        "ls - list directory contents\n",
        "\n",
        "SYNOPSIS\n",
        "\n",
        "ls [OPTION]... [FILE]...\n",
        "\n",
        "DESCRIPTION\n",
        "\n",
        "LS(1)\n",
        "\n",
        "Liste la información acerca de  los archivos (el directorio actual de forma predeterminada). Ordenar las entradas alfabéticamente si no se especifica ninguna de `-cftuvsux` ni `-sort`.\n",
        "\n",
        "Los argumentos obligatorios a opciones largas también son obligatorios para opciones cortas.\n",
        "\n",
        "`-a`, -`-all`\n",
        "\n",
        "No ignore las entradas que comienzan con .\n",
        "\n",
        "`-A`, `--almost-all`\n",
        "\n",
        "`--author`\n",
        "\n",
        "con `-l`, imprima el autor de cada archivo\n",
        "\n",
        "Explore las páginas manuales de todos los comandos anteriores para las opciones disponibles."
      ]
    },
    {
      "cell_type": "code",
      "execution_count": null,
      "metadata": {
        "id": "F3VjYEZ5kART"
      },
      "outputs": [],
      "source": [
        "!man ls"
      ]
    },
    {
      "cell_type": "markdown",
      "metadata": {
        "id": "jvTowcHykchq"
      },
      "source": [
        "### Comandos para el procesamiento de texto"
      ]
    },
    {
      "cell_type": "markdown",
      "metadata": {
        "id": "q97V2_Wtkc0L"
      },
      "source": [
        "#### cut\n",
        "\n",
        "El comando `cut` sirve para cortar una sección de un archivo. Consulte `man cut` para ver las opciones disponibles.\n",
        "Para cortar una sección de un archivo use `-c` (caracteres)"
      ]
    },
    {
      "cell_type": "code",
      "execution_count": null,
      "metadata": {
        "id": "ekXRHGlIkdDP"
      },
      "outputs": [],
      "source": [
        "!cut -c1-10 /content/Introduction_to_Linux_Unix_Text_processing/SARS-CoV-2.fa"
      ]
    },
    {
      "cell_type": "markdown",
      "metadata": {
        "id": "wxIjjGfqku5_"
      },
      "source": [
        "La opción `-c1-10` generará los primeros 10 caracteres del archivo de entrada.\n",
        "Pocas opciones:\n",
        "`-c`: corte basado en la posición del caracter `-d`: corte basado en delimitador `-f`: número de campo\n",
        "\n",
        "\n",
        "Tenemos un archivo llamado \"Human_viruses.txt\" con todos los nombres de virus, ID de genBank y longitud del genoma. Estos campos están separados por \"|\"símbolo."
      ]
    },
    {
      "cell_type": "code",
      "execution_count": null,
      "metadata": {
        "id": "pVQl00KflBcs"
      },
      "outputs": [],
      "source": [
        "!head /content/Introduction_to_Linux_Unix_Text_processing/human_viruses.txt"
      ]
    },
    {
      "cell_type": "markdown",
      "metadata": {
        "id": "37A3OvYxlFJp"
      },
      "source": [
        "Para obtener solo el ID de GenBank, escriba el comando a continuación."
      ]
    },
    {
      "cell_type": "code",
      "execution_count": null,
      "metadata": {
        "id": "Z7BTKK2ClK7w"
      },
      "outputs": [],
      "source": [
        "!cut -d \"|\" -f2 /content/Introduction_to_Linux_Unix_Text_processing/human_viruses.txt"
      ]
    },
    {
      "cell_type": "markdown",
      "metadata": {
        "id": "aBxlKKjQlPFX"
      },
      "source": [
        "#### sort\n",
        "\n",
        "El comando `sort` se usa para ordenar el contenido de entrada.\n",
        "\n",
        "\n",
        "Pocas opciones:\n",
        "\n",
        "`-t`: separador de campo\n",
        "\n",
        "`-n`: clasificación numérica\n",
        "\n",
        "`-k`: ordenar con una clave (campo)\n",
        "\n",
        "`-r`: clasificación inversa\n",
        "\n",
        "`-u`: imprimir entradas únicas"
      ]
    },
    {
      "cell_type": "code",
      "execution_count": null,
      "metadata": {
        "id": "yyF9F03hlY4r"
      },
      "outputs": [],
      "source": [
        "!sort -t \"|\" -nrk6 /content/Introduction_to_Linux_Unix_Text_processing/human_viruses.txt"
      ]
    },
    {
      "cell_type": "markdown",
      "metadata": {
        "id": "XE0b15qUle0Z"
      },
      "source": [
        "#### grep\n",
        "\n",
        "Grep busca la entrada para un patrón dado.\n",
        "\n",
        "Pocas opciones:\n",
        "\n",
        "`-A`: después del contexto\n",
        "\n",
        "`-B`: antes del contexto\n",
        "\n",
        "`-C`: antes y después del contexto -c: contar\n",
        "\n",
        "`-l`: archivo con coincidencia\n",
        "\n",
        "`-i`: la distinción entre mayúsculas y minúsculas\n",
        "\n",
        "`-o`: solo match\n",
        "\n",
        "`-v`: invertir match\n",
        "\n",
        "`-W`: match con palabras\n",
        "\n",
        "\n",
        "Para obtener la lista de todos los virus de la hepatitis de Human_Viruses.txt, escriba el comando a continuación."
      ]
    },
    {
      "cell_type": "code",
      "execution_count": null,
      "metadata": {
        "id": "EgNQS11elod1"
      },
      "outputs": [],
      "source": [
        "!grep \"Hepatitis\" /content/Introduction_to_Linux_Unix_Text_processing/human_viruses.txt\n"
      ]
    },
    {
      "cell_type": "markdown",
      "metadata": {
        "id": "MQN60dA9lrfV"
      },
      "source": [
        "#### wc\n",
        "\n",
        "El comando `wc` se puede usar de 2 maneras: contar líneas, palabras o caracteres."
      ]
    },
    {
      "cell_type": "code",
      "execution_count": null,
      "metadata": {
        "id": "ZgPEG2E_lzoL"
      },
      "outputs": [],
      "source": [
        "!wc -l /content/Introduction_to_Linux_Unix_Text_processing/outbreak.csv"
      ]
    },
    {
      "cell_type": "code",
      "execution_count": null,
      "metadata": {
        "id": "vDNPRtlYl2-u"
      },
      "outputs": [],
      "source": [
        "!cat /content/Introduction_to_Linux_Unix_Text_processing/outbreak.csv | wc -l"
      ]
    },
    {
      "cell_type": "markdown",
      "metadata": {
        "id": "W79G_y1Sl5hg"
      },
      "source": [
        "#### uniq\n",
        "\n",
        "\n",
        "El comando `uniq` extrae líneas únicas de la entrada. Por lo general, se usa en combinación con `sort` para contar valores únicos en la entrada.\n",
        "Para obtener la lista de países que han tenido un brote en 2022:"
      ]
    },
    {
      "cell_type": "code",
      "execution_count": null,
      "metadata": {
        "id": "M1LxQw2rmUbH"
      },
      "outputs": [],
      "source": [
        "!cut -d, -f3 /content/Introduction_to_Linux_Unix_Text_processing/outbreak.csv | sort | uniq"
      ]
    },
    {
      "cell_type": "markdown",
      "metadata": {
        "id": "9HO9XAdsmo2a"
      },
      "source": [
        "Otros comandos de procesamiento de texto que vale la pena mirar son: `tr`, `rev`, `sed` y `paste`."
      ]
    },
    {
      "cell_type": "markdown",
      "metadata": {
        "id": "AlF_ySwGmtWL"
      },
      "source": [
        "### Control de \"outputs\" o salidas en Linux"
      ]
    },
    {
      "cell_type": "markdown",
      "metadata": {
        "id": "hlsBAV5JmtKc"
      },
      "source": [
        "Cuando se ejecuta un comando, la salida generalmente se envía a la salida estándar (stdout), es decir,la terminal. Sin embargo, podemos redirigir la salida estándar a un archivo usando `>`."
      ]
    },
    {
      "cell_type": "code",
      "execution_count": null,
      "metadata": {
        "id": "BfEZOi1xnHMW"
      },
      "outputs": [],
      "source": [
        "!ls > list\n",
        "!cat list"
      ]
    },
    {
      "cell_type": "markdown",
      "metadata": {
        "id": "3h2RgYxUnLxS"
      },
      "source": [
        "El primer comando crea un nuevo archivo llamado list con todos los nombres de los archivos en el directorio. Si existe un archivo llamado \"list\", se sobrescribe con la salida del comando. En cambio, podemos agregar a un archivo usando la redirección \">>\".\n",
        "\n",
        "Otro tipo de salida generado por los programas es el error estándar. Debemos usar \"2>\" para redirigirlo."
      ]
    },
    {
      "cell_type": "code",
      "execution_count": null,
      "metadata": {
        "id": "Vf6qbH1CnQe5"
      },
      "outputs": [],
      "source": [
        "!ls /foo 2> error"
      ]
    },
    {
      "cell_type": "markdown",
      "metadata": {
        "id": "JpYLn8sVnUH9"
      },
      "source": [
        "Para redirigir stdout y stderr a un archivo, use \"&>\""
      ]
    },
    {
      "cell_type": "markdown",
      "metadata": {
        "id": "aM3-zZmQnXpK"
      },
      "source": [
        "### Pipes"
      ]
    },
    {
      "cell_type": "markdown",
      "metadata": {
        "id": "BoIkOMprnXyR"
      },
      "source": [
        "Los \"pipes\" en Linux son una forma muy potente y eficiente de combinar comandos. Los \"pipes\" (|) en Linux actúan como enlaces de conexión entre comandos. Los \"pipes\" redirigen la salida del primer comando como una entrada al siguiente comando. Podemos anidar tantos comandos como queramos. Aseguran la ejecución  del flujo de comando y reduce el tiempo de ejecución.\n",
        "\n",
        " Para imprimir 10 virus más pequeños, ejecute el comando a continuación."
      ]
    },
    {
      "cell_type": "code",
      "execution_count": null,
      "metadata": {
        "id": "hUk3EKpXnn__"
      },
      "outputs": [],
      "source": [
        "!sort -t \"|\" -nk6 /content/Introduction_to_Linux_Unix_Text_processing/human_viruses.txt | head -10"
      ]
    },
    {
      "cell_type": "markdown",
      "metadata": {
        "id": "Db6t0y-unrtf"
      },
      "source": [
        "### Process control"
      ]
    },
    {
      "cell_type": "markdown",
      "metadata": {
        "id": "iZ67Ig7rnziY"
      },
      "source": [
        "Algunos comandos toman tiempo para finalizar el trabajo asignado. Por ejemplo, si desea comprimir un archivo enorme con el comando gzip que toma unos minutos para terminar de ejecutarse, puede ejecutarlo en segundo plano agregando el comando con \"&\" (otra forma es suspender un comando presionando Ctrl+Z y escribiendo \"bg\"). La finalización de la tarea se indica con \"Done\"."
      ]
    },
    {
      "cell_type": "code",
      "execution_count": null,
      "metadata": {
        "id": "I_90Qp2oo9zt"
      },
      "outputs": [],
      "source": [
        "!gzip list &"
      ]
    },
    {
      "cell_type": "markdown",
      "metadata": {
        "id": "Lq1ow6eopCjk"
      },
      "source": [
        "Podemos obtener una lista de los trabajos o \"jobs\" que actualmente están en ejecución en la terminal mediante el comando \"jobs\". Esto le dará todos los jobs de fondo que se están ejecutantando en la terminal actual. Si desea ver todos los procesos en ejecución en el sistema, use \"top\". Puede obtener detalles específicos del usuario utilizando la opción \"-u\"."
      ]
    },
    {
      "cell_type": "code",
      "execution_count": null,
      "metadata": {
        "id": "zb91KCGVpF0a"
      },
      "outputs": [],
      "source": [
        "!top"
      ]
    },
    {
      "cell_type": "markdown",
      "metadata": {
        "id": "SaowKoH3pZij"
      },
      "source": [
        "\n",
        "ALgubas columnas importantes en la salida top:\n",
        "\n",
        "\n",
        "PID: ID de proceso, este es un número único utilizado para identificar el proceso.\n",
        "\n",
        "COMMAND: nombre de comando\n",
        "\n",
        "\n",
        "S: Estado del proceso: el estado de la tarea que puede ser uno de:\n",
        "\n",
        "\n",
        "- D = espera ininterrumpible (estado en el que un proceso está en espera de algún evento, como entrada/salida, y no puede ser interrumpido)\n",
        "\n",
        "- R = Ejecutar\n",
        "\n",
        "- S = durmiendo (esperando)\n",
        "\n",
        "- T = trazado o detenido\n",
        "\n",
        "- Z = zombie\n",
        "\n",
        "Si desea detener un trabajo use el comando \"kill\" seguido del ID del proceso.\n",
        "\n",
        "kill 1234\n",
        "\n",
        "\n",
        "Este comando detiene el trabajo con la identificación del proceso 1234. Como usuario, solo puede matar sus trabajos. No tiene permiso para ejecutar este comando en las ID de proceso de otros usuarios."
      ]
    },
    {
      "cell_type": "markdown",
      "metadata": {},
      "source": [
        "### Atajos de la línea de comandos\n",
        "\n",
        "* Flechas hacia arriba/hacia abajo: comandos anteriores\n",
        "* !!: Correr de nuevo el comando anterior\n",
        "* Tab: Auto completado\n",
        "* Tab+Tab: Todas las opciones disponibles\n",
        "* Ctrl+A: Mueva el cursor al inicio de la línea\n",
        "* Ctrl+E: Mueva el cursor al final de la línea\n",
        "* Alt+: Alternar entre terminales\n",
        "* Ctrl+l: Limpiar la pantalla (o Command+k en Mac)\n",
        "* Ctrl+c: Termina el programa que se está ejecutando\n",
        "* Ctrl+z: Suspende el programa que se está ejecutando\n",
        "* Ctrl+w: Elimina una palabra anterior\n",
        "* Ctrl+d: Cerrar sesión\n",
        "* Ctrl+d (en un comando): Elimina un caracter\n",
        "* Ctrl+u: Elimina hasta el principio"
      ]
    },
    {
      "cell_type": "markdown",
      "metadata": {
        "id": "1IEOrNcBvV-J"
      },
      "source": [
        "## Ejercicios:\n",
        "\n",
        "1. Navegue al directorio Exercises (/content/introduction_to_linux_unix_text_processing/Exercises)\n",
        "2. Extraiga las primeras 15 líneas del archivo \"HM067743.1_cds_adq37313.1_1.fa\" y guarde la salida en \"output.fa\"\n",
        "3. ¿Cuántos archivos FASTA hay en el directorio?\n",
        "4. Extraiga todas las líneas de encabezado del archivo all.fa\n",
        "5. ¿Cuántas secuencias hay en el archivo all.fa?\n",
        "6. Obtenga la lista de países (excluyendo múltiples brotes de países) que tuvieron un brote en 2022 (input: /content/introduction_to_linux_unix_text_processing/outbreak.csv)\n",
        "7. Encuentre el número de brotes (excluya los brotes de múltiples países utilizando invertir el partido GREP (-V)) en cada mes de 2022."
      ]
    },
    {
      "cell_type": "code",
      "execution_count": null,
      "metadata": {
        "id": "qLknepLivnJD"
      },
      "outputs": [],
      "source": [
        "#Use este espacio para practicar su código y responder las preguntas en los ejercicios anteriores.\n",
        "#Agregue más bloques de código si es necesario usando el botón de +Code en la parte superior de la página."
      ]
    },
    {
      "cell_type": "markdown",
      "metadata": {
        "id": "US37fC5veAwp"
      },
      "source": [
        "# Módulo 1 Parte 2 - Formatos de archivo y datos NGS y Control de calidad (QC)\n",
        "Esta práctica se adaptó del curso: [Viral Genomics and Bioformatics Asia, 2022,2022] (https://wcscourses.github.io/viralbioinfasia2022/).\n",
        "\n",
        "Los formatos de archivo NGS y el módulo de componentes de QC de datos fueron creados por [David Studholme (Univ. De Exeter)] (https://biosciences.exeter.ac.uk/staff/profile/index.php?web_id=david_studholme).\n",
        "\n",
        "*Modificado por Luisa Sacristán (Universidad de los Andes-CABANA)*\n",
        "\n",
        "\n",
        "Este es un módulo general para ayudarlo a familiarizarse con los formatos de datos NGS de manera práctica.\n",
        " "
      ]
    },
    {
      "cell_type": "markdown",
      "metadata": {
        "id": "M-U6Z5Z_Fcf5"
      },
      "source": [
        "## Formatos de archivo de uso común para datos de secuenciación de próxima generación (NGS)\n",
        "\n",
        "En esta sesión, se va a familiarizar con varios formatos de archivo comunes utilizados para los datos de secuenciación. Luego vamos a realizar algún control de calidad (QC) en algunos datos de secuencia con formato FASTQ.\n"
      ]
    },
    {
      "cell_type": "markdown",
      "metadata": {
        "id": "kGacqX-AGDKt"
      },
      "source": [
        "### FASTA\n",
        "\n",
        "Entre los formatos de archivo más comunes y simples para representar secuencias de nucleótidos está FASTA. Esencialmente, cada secuencia está representada por una línea de 'encabezado' que comienza con un '>', seguido de líneas que contienen la secuencia de nucleótidos. Por convención, la primera 'palabra' en la línea de encabezado es un identificador único, que generalmente es como número de acceso. Considere este ejemplo de una secuencia de nucleótidos con formato FASTA:\n",
        "\n",
        "    >LC719646.1 Influenza A virus (A/swine/Tottori/B34/2020(H1N1)) segment 8 NS1, NEP genes for nonstructural protein 1, nuclear export protein, complete cds\n",
        "    ATGGAATCCAACACCATGTCAAGCTTTCAGGTAGACTGTTTTCTTTGGCATATTCGCAAGCGATTTGCAG\n",
        "    ACAATGGATTGGGTGATGCCCCATTCCTTGATCGGCTACGCCGAGATCAAAAGTCCTTAAAAGGAAGAGG\n",
        "    CAACACCCTTGGCCTCGACATCAAAACAGCCACTCTTGTTGGGAAACAAATTGTGGAATGGATTTTGAAA\n",
        "    GAGGAATCCAGCGAGACACTTAGAATGGCAATTGCATCTGTACCTACTTCGCGTTACATTTCTGACATGG\n",
        "    CCCTCGAGGAAATGTCACGAGACTGGTTCATGCTTATGCCTAGGCAAAAGATAATAGGCCCTCTTTGCGT\n",
        "    GCGATTGGACCAGGCGGTCATGGATAAGAACGTAGTACTGGAAGCAAACTTCAGTGTAATCTTCAACCGA\n",
        "    TTAGAGACCTTGATACTACTAAGGGCTTTCACTGAGGAGGGAACAATAGTTGGAGAAATTTCACCATTAC\n",
        "    CTTCTCTTCCAGGACATACTTATGAGGATGTCAAAAATGCAGTTGGGGTYCTCATCGGAGGACTTGAGTG\n",
        "    GAATGGTAACACGGTTCGAGTCTCTGAAAATATACAGAGATTCGCTTGGAGAAGCTGTGATGAGAATGGG\n",
        "    AGACCTTCACTACCTCCAGAGCAGAAATGAGAAGTGGCGGGAACAATTGGGACAGAAATTTGAGGAAATA\n",
        "    AGGTGGTTAATTGAAGAAATACGACACAGATTGAAAGCGACAGAGAATAGTTTCGAACAAATAACATTTA\n",
        "    TGCAAGCCTTACAACTACTGCTTGAAGTAGAGCAAGAGATAAGAGCTTTCTCGTTTCAGCTTATTTAA\n",
        "\n",
        "- La primera línea comienza con '>' que indica que es la línea de encabezado.\n",
        "- Esto es seguido inmediatamente por 'LC719646.1', que es un número de acceso para [esta secuencia en la base de datos GenBank] (https://www.ncbi.nlm.nih.gov/nuccore/lc719646.1).\n",
        "- Luego sigue la secuencia de nucleótidos, dividida en varias líneas, comenzando con 'ATGGAATCCAACA ...' y terminando con '... TTATTTAA''.\n",
        "\n",
        "Es muy común combinar múltiples secuencias en un solo **archivo multi-fasta** como este:\n",
        "\n",
        "    >ON084923.1 Influenza A virus (A/ostriches (Struthio camelus)/Egypt/Mansoura1/2022(H5N8)) segment 4 hemagglutinin, HA2 region, (HA) gene, partial cds\n",
        "    GTACCACCATAGCAATGAGCAGGGGAGTGGGTACGCTGCAGACAAAGAATCCACTCAAAAGGCAATAGAT\n",
        "    GGAGTTACCAATAAGGTCAACTCAATCATTGACAAAATGAACACTCAATTTGAGGCAGTTGGAAGGGAGT\n",
        "    TTAATAACTTAGAAAGGAGGATAGAGAATTTGA\n",
        "    \n",
        "    >MW170960.1 Influenza A virus (A/swine/Italy/410927/2018(H1N2)) segment 6 neuraminidase (NA) gene, partial cds\n",
        "    CCTTATGCAGATTGCTATCCTGGTAACTACTGTTACATTTCACTTCAAGCAATATGAATACAATTTCTAC\n",
        "    CCAAACAACCAAGTAATGCCATGTGAACCAACGATAATTGAAAGAAACATAACAGAAATAGTGTACCTGG\n",
        "    CCAACACCAC\n",
        "    \n",
        "    >MW170083.1 Influenza A virus (A/swine/Italy/134212/2019(H1N2)) segment 6 neuraminidase (NA) gene, partial cds\n",
        "    GTAGTAACTGCCTGAGTCCTAATAATGAAGAAGGGGGTCATGGGGTAAAAGGCTGGGCCTTTGATGATGG\n",
        "    AAATGATGTTTGGATGGGAAGAACGATCAGCGAAAAGTTACGATTAGGTTATGAAACCTTCAAGGTCATC\n",
        "    GACGGTTGGTCCAAGCC\n",
        "    \n",
        "    >MW169741.1 Influenza A virus (A/swine/Italy/8745/2019(H3N2)) segment 2 polymerase PB1 (PB1) gene, partial cds\n",
        "    TCGTTCCATCCTCAATACTAGCCAAAGGGGAATTCTTGAGGATGAGCAAATGTATCAGAAGTGCTGCAAT\n",
        "    TTATTTGAGAAATTCTTCCCTAGCAGTTCATACAGGAGGCCAGTGGGAATTTCAAGCATGGTGGAGGCCA\n",
        "    TGGTATCTAGGGCCAGAATTGATGCACGGATTGATTTCGAGTCTGGAAGGATTAATAAAGAAGAATTTGC\n",
        "    TGAGATCATGAAGATCTGTTCCACCATAGAAGAGTTCAGACGGCAAAAGTAG\n",
        "    \n",
        "    >OM149369.1 Influenza A virus (A/Hilly chicken/Bangladesh/Avian Influenza Virus/2019(H9)) segment 4 hemagglutinin (HA) gene, partial cds\n",
        "    AATTTCTTAGCTAGCAAAATGGAAACAATAACACTGATGACTACACTACTATTAACAACAACGAGCCTTG\n",
        "    CAGACAAAATCTGTATCGGCCACCAATCGACAAATTCTACAGAAACTGTAGACACACTAACAGAAACTAA\n",
        "    CGTTCCTGTGACACATGCCAAAGAGTTGCTCCATACGGATCACAATGGAATGCTGTGTGCAACAAATCTA\n",
        "    GGACATCCCCTCATCCTAGATAAATGTAACGTAGAAGGACTGATCTACGGCAACCCTTCTTGTGATCT\n",
        "\n",
        "\n",
        "Si desea información más detallado del formato de archivo FASTA, puede echar un vistazo a la página de Wikipedia aquí: https://en.wikipedia.org/wiki/FASTA_format.\n",
        "\n"
      ]
    },
    {
      "cell_type": "markdown",
      "metadata": {
        "id": "kSrZRbuUGHdJ"
      },
      "source": [
        "### FASTQ\n",
        "El formato de archivo FASTA es ampliamente utilizado y tiene la gran ventaja de la simplicidad. Sin embargo, esta simplicidad puede ser restrictiva si queremos incluir datos/metadatos adicionales además de la secuencia.\n",
        "Dadas las tasas de error de las tecnologías NGS, a menudo necesitamos acompañar nuestros datos de secuencia con puntajes de calidad que estiman nuestra confianza en la precisión de los datos de secuencia. Como veremos más adelante, esto nos permite realizar análisis de control de calidad y filtrar datos de mala calidad antes de realizar análisis.\n",
        "FASTQ es un formato simple basado en texto que nos permite incluir puntajes de calidad. Una sola secuencia está representada por cuatro líneas de texto:\n",
        "\n",
        "    @ERR8261968.1 1 length=97\n",
        "    ACTTTCGATCTCTTGTAGATCTGTTCTCTAAACGAACTTTAAAATCTGTGTGGCTGTCACTCGGCTGCATGCTTAGTGCACTCACGCAGTATAATTA\n",
        "    +ERR8261968.1 1 length=97\n",
        "    CCCCCFDDFFFFGGGGGGGGGGHHHHHHHHHHHGGGGHHHHHHHHHHHHHHHGHHGHHIIHHGGGGGGHHHHHHHHHHHHHHHHHHHGGGHHHHHHH\n",
        "\n",
        "- La primera línea es un 'encabezado' que contiene un identificador único para la secuencia y, opcionalmente, una descripción adicional.\n",
        "- La segunda línea contiene la secuencia de nucleótidos.\n",
        "- La tercera línea es redundante y puede ignorarse de manera segura. A veces simplemente repite la primera línea. A veces está en blanco o simplemente contiene un carácter '+'.\n",
        "- La cuarta línea contiene una cadena de caracteres que codifican puntajes de calidad para cada nucleótido en la secuencia. Cada caracter codifica una puntuación, típicamente un número entre 0 y 40;Esta puntuación está codificada por un solo caracter.\n",
        "\n",
        "| Character | ASCII | FASTQ quality score (ASCII – 33) \n",
        "| --|--|--\n",
        "| ! | 33 | 0\n",
        "| “ | 34 | 1\n",
        "| # | 35 | 2\n",
        "| $ | 36 | 3\n",
        "| % | 37 | 4\n",
        "| ... | ... | ...\n",
        "| C | 67 | 34\n",
        "| D | 68 | 35\n",
        "| E | 69 | 36\n",
        "| F | 70 | 37\n",
        "| G | 71 | 38\n",
        "| H | 72 | 39\n",
        "|40 | 73 | 40\n",
        "\n",
        "Entonces, en el ejemplo anterior, podemos ver que la mayoría de las posiciones dentro de la secuencia de 97 nucleótidos tienen puntajes mayores a 30 , lo que indica un alto grado de confianza en su precisión.\n",
        "\n",
        "- Una puntuación de 30 denota una probabilidad de 1 en 1000 de un error, es decir, una precisión del 99.9 %.\n",
        "- Una puntuación de 40 denota una probabilidad de 1 en 10,000 de un error, es decir, una precisión del 99.99 %.\n",
        "\n",
        "Puede leer más sobre el formato de archivo FASTQ y los puntajes de calidad aquí: Cock, P. J., Fields, C. J., Goto, N., Heuer, M. L. y Rice, P. M. (2010).\n",
        "Información sobre el formato de archivo Sanger FastQ para secuencias con puntajes de calidad y las variantes Solexa/Illumina Fastq las puede encontar aquí: *Nucleic Acids Research*, ** 38 **, 1767–1771.https://doi.org/10.1093/nar/gkp1137.\n",
        "\n"
      ]
    },
    {
      "cell_type": "markdown",
      "metadata": {
        "id": "80qPmO7hGU2O"
      },
      "source": [
        "### SAM y BAM\n",
        "\n",
        "El archivo SAM (generalmente llamado *.sam) se usa para representar secuencias alineadas. Es particularmente útil para almacenar los resultados de alinear lecturas de secuencia genómica o transcriptómica alineadas con una secuencia del genoma de referencia. \n",
        "El formato de archivo BAM es una **forma comprimida** de SAM. Esto tiene la desventaja de que no es legible para los humanos, sino que tiene la ventaja de ser más pequeño que el archivo SAM correspondiente y, por lo tanto, más fácil de compartir y copiar entre ubicaciones.\n",
        "\n",
        "Puedes leer sobre formatos SAM y BAM aquí:\n",
        " - Li, H., Handsaker, B., Wysoker, A., Fennell, T., Ruan, J., Homer, N., Marth, G., Abecasis, G., Durbin, R. y 1000 Genome Project Data Processing Subgroup (2009).\n",
        " \n",
        " El formato de alineación/mapeo de secuencia y SamTools en *Bioinformática*, ** 25 **, 2078–2079.https://doi.org/10.1093/bioinformatics/btp352 y\n",
        "-[https://samtools.github.io/hts-specs/samv1.pdffont>(https://samtools.github.io/hts-specs/samv1.pdf).\n",
        "\n",
        "Podemos ver archivos BAM gráficamente utilizando un softwares especializados como:\n",
        "- [IGV](https://igv.org/)\n",
        "- [Tablet](https://ics.hutton.ac.uk/tablet/)\n",
        "- [Artemis / BAMview](http://sanger-pathogens.github.io/Artemis/BamView/) \n",
        "\n"
      ]
    },
    {
      "cell_type": "markdown",
      "metadata": {
        "id": "rD-S7SZYGmIK"
      },
      "source": [
        "## Repositorios públicos de datos NGS\n",
        "El \"Sequence Read Archive\" (SRA) contiene una gran cantidad de lecturas de secuencias generadas por varios métodos NGS. Podemos explorar estos datos en la web a través del portal web del NCBI. También podemos descargar conjuntos de datos NGS en formato FASTQ y analizarlos localmente, por ejemplo, en una máquina virtual. Echemos un vistazo a un conjunto de datos de ejemplo: [SRR19504912](https://www.ncbi.nlm.nih.gov/sra/?term=SRR19504912)\n",
        "\n",
        ". ¿De qué virus proviene este conjunto de datos de secuenciación?\n",
        "\n",
        "Let's use the web interface to take a look at a few of the sequence reads in this dataset. Click on where it says [SRR19504912](https://trace.ncbi.nlm.nih.gov/Traces/sra/?run=SRR19504912) under 'Run'. Then click on the 'Reads' tab. This will take you to [this page](https://trace.ncbi.nlm.nih.gov/Traces/index.html?view=run_browser&page_size=10&acc=SRR19504912&display=reads), which looks like this:\n",
        "\n",
        "![enter image description here](https://github.com/WCSCourses/ViralBioinfAsia2022/raw/main/course_data/NGS_file_formats_and_data_QC/images/Screenshot%202022-07-31%20at%2016.05.10.png)\n",
        "\n",
        "In the figure above, we can see a single sequence read along with the quality scores for each nucleotide position in its sequence. Notice that the scores are high (well above 30) for most of this sequence read."
      ]
    },
    {
      "cell_type": "markdown",
      "metadata": {
        "id": "IIwS8vTVGxBS"
      },
      "source": [
        "Now let's download the sequence data (i.e. the whole set of reads) from this sequencing run from the SRA. Unfortunately it is not easy to download the data directly from the NCBI website; instead we have to use the *fasterq-dump* tool from the [NCBI's SRA Toolkit](https://github.com/ncbi/sra-tools/wiki/01.-Downloading-SRA-Toolkit). So, first execute this command in the Terminal:"
      ]
    },
    {
      "cell_type": "code",
      "execution_count": null,
      "metadata": {
        "id": "6DNTVUFJeGIb"
      },
      "outputs": [],
      "source": [
        "#download the SRA tools using bioconda\n",
        "!conda install -c bioconda sra-tools\n"
      ]
    },
    {
      "cell_type": "code",
      "execution_count": null,
      "metadata": {
        "id": "UKLrq-RSleFX"
      },
      "outputs": [],
      "source": [
        "#Unpack the downloaded file using  tar - tar is an excellent tool to pack and unpack files\n",
        "!fastq-dump --split-files SRR123456"
      ]
    },
    {
      "cell_type": "markdown",
      "metadata": {
        "id": "6NxMsd0BM-sV"
      },
      "source": [
        "You should then see some output something like this:\n",
        "\n",
        "    spots read      : 306,691\n",
        "    reads read      : 613,382\n",
        "    reads written   : 613,382\n",
        "\n",
        "you will notice that new files have been created called *SRR19504912_1.fastq*  and *SRR19504912_2.fastq*. There are two files because this dataset consists of paired sequence reads. "
      ]
    },
    {
      "cell_type": "code",
      "execution_count": null,
      "metadata": {
        "id": "UUrojusnp7TE"
      },
      "outputs": [],
      "source": [
        "# now to install two key tools - fastqc and trim-galore\n",
        "!conda install -c bioconda fastqc -y\n",
        "!conda install -c bioconda trim-galore"
      ]
    },
    {
      "cell_type": "code",
      "execution_count": null,
      "metadata": {
        "id": "EfeOMtz9qdGz"
      },
      "outputs": [],
      "source": [
        "#this command will run on ANY fastq file in the directory\n",
        "#We only have two here, but you may have thousands, consider the * operator carefully\n",
        "!fastqc *.fastq"
      ]
    },
    {
      "cell_type": "markdown",
      "metadata": {
        "id": "Fi_LJFA1QWDy"
      },
      "source": [
        "This will generate some messages something like this:\n",
        "\n",
        "    Started analysis of SRR19504912_1.fastq\n",
        "    Approx 5% complete for SRR19504912_1.fastq\n",
        "    Approx 10% complete for SRR19504912_1.fastq\n",
        "    ...\n",
        "    Approx 90% complete for SRR19504912_1.fastq\n",
        "    Approx 95% complete for SRR19504912_1.fastq\n",
        "    Analysis complete for SRR19504912_1.fastq\n",
        "    Started analysis of SRR19504912_2.fastq\n",
        "    Approx 5% complete for SRR19504912_2.fastq\n",
        "    Approx 10% complete for SRR19504912_2.fastq\n",
        "    Approx 15% complete for SRR19504912_2.fastq\n",
        "    ...\n",
        "    Approx 90% complete for SRR19504912_2.fastq\n",
        "    Approx 95% complete for SRR19504912_2.fastq\n",
        "    Analysis complete for SRR19504912_2.fastq\n",
        "\n",
        "\n",
        "Now, execute the command `ls -lh` and you should see some new files have appeared:\n"
      ]
    },
    {
      "cell_type": "code",
      "execution_count": null,
      "metadata": {
        "id": "srnDx4tLQX6g"
      },
      "outputs": [],
      "source": [
        "#run the ls -lh command - what do the -l and -h operators do?\n",
        "!ls -lh"
      ]
    },
    {
      "cell_type": "markdown",
      "metadata": {
        "id": "mjOixXmXPves"
      },
      "source": [
        "Take a look at the first few lines of each file by executing this command:     \n",
        "```\n",
        "head *.fastq\n",
        "```"
      ]
    },
    {
      "cell_type": "code",
      "execution_count": null,
      "metadata": {
        "id": "twRbrsqosAh6"
      },
      "outputs": [],
      "source": [
        "#try the head command here, try it for both, then individual files\n"
      ]
    },
    {
      "cell_type": "markdown",
      "metadata": {
        "id": "PSOskAWQrC11"
      },
      "source": [
        "We are most interested in the HTML files, which contain the FastQC reports for our two fastq files. To view the output, you will need to download and use the html file. To do so, click the \"three dots\" you will see when hovering over the .html file with your mouse pointer and download it, then open your download in a browser \n",
        "\n",
        "![Screenshot 2022-10-24 at 16.48.48.png](data:image/png;base64,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)"
      ]
    },
    {
      "cell_type": "markdown",
      "metadata": {
        "id": "qbMjm0Z-RBh1"
      },
      "source": [
        "You should then see something like this:\n",
        "\n",
        "![enter image description here](https://github.com/WCSCourses/ViralBioinfAsia2022/raw/main/course_data/NGS_file_formats_and_data_QC/images/Screenshot%202022-07-31%20at%2015.28.02.png)\n",
        "\n",
        "Note that there are two tabs in the Firefox web browser; there is one for the QC report for *SRR19504912_1.fastq*  and another for *SRR19504912_2.fastq*.\n",
        "\n",
        "There is a lot of QC information in these reports. Feel free to explore these in your own time and take a look at the FastQC homepage at https://www.bioinformatics.babraham.ac.uk/projects/fastqc/ and see the tutorial video at http://www.youtube.com/watch?v=bz93ReOv87Y.\n",
        "\n",
        "For now, we are just going to look at\n",
        "- Basic statistics\n",
        "- Per-base sequence quality \n",
        "- Adapter content"
      ]
    },
    {
      "cell_type": "markdown",
      "metadata": {
        "id": "j5esVvTPRN7G"
      },
      "source": [
        "### Questions:\n",
        "\n",
        " - How many sequence reads are there? Does your answer match your\n",
        "   previous answer (based on `wc -l`) ?\n",
        " - With respect to quality scores, which of the two files has better-quality data: *SRR19504912_1.fastq* or *SRR19504912_2.fastq*.\n",
        " - Are these datasets contaminated with any Illumina sequencing adapter oligonucleotides?\n",
        "\n"
      ]
    },
    {
      "cell_type": "markdown",
      "metadata": {
        "id": "bplC-_AhRU_5"
      },
      "source": [
        "Add your answers to the questions here: (double click a text block to edit) \n",
        "\n",
        "Sequence reads:\n",
        "\n",
        "Quality:\n",
        "\n",
        "Contamination:"
      ]
    },
    {
      "cell_type": "markdown",
      "metadata": {
        "id": "Ugyug1QjRu_5"
      },
      "source": [
        "## Trimming and filtering to remove poor-quality data\n",
        "\n",
        "When you inspected the FastQC reports, you probably noticed that *SRR19504912_1.fastq* and *SRR19504912_2.fastq* include some sequence reads that contain very poor quality scores and some reads that are derived from the Illumina adapters rather than from the target viral nucleotide sequences. Now, we are going to look at how we can remove poor data and contamination by trimming and filtering. We will use [TrimGalore](https://www.bioinformatics.babraham.ac.uk/projects/trim_galore/) by executing the following command"
      ]
    },
    {
      "cell_type": "code",
      "execution_count": null,
      "metadata": {
        "id": "sIok1rkfRuQf"
      },
      "outputs": [],
      "source": [
        "!trim_galore -q 25 --length 50 --paired SRR19504912_1.fastq SRR19504912_2.fastq"
      ]
    },
    {
      "cell_type": "markdown",
      "metadata": {
        "id": "ZYEda6PYR9a1"
      },
      "source": [
        "Now, when you list the contents of the directory with ls -lh, you will notice two new files called SRR19504912_1_val_1.fq and SRR19504912_2_val_2.fq. These are the trimmed-and-filtered versions of original files SRR19504912_1.fastq and SRR19504912_2.fastq. Now, let’s run FastQC on these two new ‘cleaned’ files:\n"
      ]
    },
    {
      "cell_type": "code",
      "execution_count": null,
      "metadata": {
        "id": "AJSbx8ddSCjX"
      },
      "outputs": [],
      "source": [
        "#run the ls -lh command"
      ]
    },
    {
      "cell_type": "code",
      "execution_count": null,
      "metadata": {
        "id": "Nej6LHUfSYVa"
      },
      "outputs": [],
      "source": [
        "#run fastqc *.fq\n",
        "!fastqc *.fq\n"
      ]
    },
    {
      "cell_type": "markdown",
      "metadata": {
        "id": "AHlwUuBgSgQF"
      },
      "source": [
        "This will create QC reports, in HTML format, for the cleaned FASTQ files. Now let’s take a look at these files like you did earlier by downloading the html file and opening it in a browser"
      ]
    },
    {
      "cell_type": "markdown",
      "metadata": {
        "id": "TFHy27CPS6Qn"
      },
      "source": [
        "### Questions:\n",
        "\n",
        " - How many reads were removed by TrimGalore from each FASTQ file?\n",
        " - What impact has TrimGalore had upon the lengths of the sequence reads?\n",
        " - What impact has TrimGalore had upon adapter contamination?\n",
        " - Has TrimGalore altered  the distribution of quality scores?\n",
        " \n",
        " You can read more about TrimGalore at https://www.bioinformatics.babraham.ac.uk/projects/trim_galore/.\n",
        "\n",
        "Congratulations on reaching the end of this session! You should now be familiar with some of the most common file formats used in analysing NGS data and you know how to access and perform some basic QC on datasets of NGS sequence reads.\n"
      ]
    },
    {
      "cell_type": "markdown",
      "metadata": {
        "id": "vkaiiVNeS8Ru"
      },
      "source": [
        "Answer your questions here:\n",
        "\n",
        " - How many reads were removed by TrimGalore from each FASTQ file?\n",
        " \n",
        " - What impact has TrimGalore had upon the lengths of the sequence reads?\n",
        "\n",
        " - What impact has TrimGalore had upon adapter contamination?\n",
        "\n",
        " - Has TrimGalore altered  the distribution of quality scores?\n",
        " \n"
      ]
    },
    {
      "cell_type": "markdown",
      "metadata": {
        "id": "UbQrYRNJTNa6"
      },
      "source": [
        "### Bonus!\n",
        "\n",
        "#### What if you had a large number of FastQC reports to analyze?\n",
        "\n",
        "Multiqc (https://multiqc.info/) is a tool that summarizes different types of NGS reports (not just FastQC).\n",
        "\n",
        "First, install the tool:\n",
        "\n",
        "    pip install multiqc\n",
        "\n",
        "In the folder with reports, run:\n",
        "\n",
        "    multiqc .\n",
        "\n",
        "See summarized report in a browser - multiqc_report.html\n"
      ]
    },
    {
      "cell_type": "code",
      "execution_count": null,
      "metadata": {
        "id": "PCKTeVHyTRw6"
      },
      "outputs": [],
      "source": [
        "#try the bonus commands here and below :-D \n",
        "!pip install multiqc"
      ]
    },
    {
      "cell_type": "code",
      "execution_count": null,
      "metadata": {
        "id": "5Uox0TIBTXxk"
      },
      "outputs": [],
      "source": [
        "!multiqc ."
      ]
    },
    {
      "cell_type": "markdown",
      "metadata": {
        "id": "BCNxKXr6eo4F"
      },
      "source": [
        "## **Credits:**\n",
        "Progress Dube\n",
        "\n",
        "Marcela Suarez Esquivel\n",
        "\n",
        "Leigh Jackson\n",
        "\n",
        "Srikeerthana Kuchi (Intro to Unix Commands)\n",
        "\n",
        "David Studholme  (Introduction to NGS formats and QC)\n",
        "\n",
        "COG-Train\n",
        "Wellcome Connection Science"
      ]
    },
    {
      "cell_type": "markdown",
      "metadata": {
        "id": "cKkTmyARj-MC"
      },
      "source": [
        "#Introduction to strings in Python\n",
        "(For extra homework)\n",
        "\n",
        "A string is a series of characters. In Python, anything inside quotes is a string. And you can use either single or double quotes\n",
        "The text below combines both code and text for some clarification. The program differentiates the text from the code, by placing a # symbol in front of the text. This means that the text won`t be read by the program as a command.\n"
      ]
    },
    {
      "cell_type": "code",
      "execution_count": null,
      "metadata": {
        "id": "dhdOtyHZj_4m"
      },
      "outputs": [],
      "source": [
        "s = ('This is a string') #And it has been assigned to a variable called 's'\n",
        "\n",
        "('This is also a string') #However, this string was NOT assigned to a variable, or printed to the screen, or written to an output file\n",
        "# So, it really serves no purpose\n",
        "# It's code garbage\n",
        "\n",
        "# To send the contents of the string to the screen (i.e., terminal window), use the 'print' command\n",
        "\n",
        "print (\"s\")\n",
        "\n",
        "# You can also print strings directly, without assigning them to a variable first\n",
        "print ('This is also a string')\n",
        "print (\"This is a string in double quotes\") # Double and single quotes are interchangeable in Python, both can be used to create strings\n",
        "\n",
        "# Triple quotes can be used to generate multiline strings\n",
        "print (\"\"\"This string spans\n",
        "multiple lines\"\"\")\n",
        "\n",
        "#However, the same can be accomplished using the \\n notation\n",
        "print (\"This string spans\\nmultiple lines\")\n",
        "\n",
        "# In Python, strings are immutable, which means that they cannot be altered\n",
        "alpha = (\"abcdefghijklmnop\")\n",
        "\n",
        "# Therefore, you can't directly add the rest of the alphabet onto the string currently assigned to the variable alpha\n",
        "# However, you can reassign variable names to altered versions of strings\n",
        "\n",
        "alpha = (alpha + \"qrstuvwxyz\")  #I know...it's a subtle distinction, but will become important later\n",
        "#The above statement might seem a bit strange because we are both using and reassigning the alpha variable in the same line\n",
        "#However, this works because the statement to the right of the \"=\" is evaluated BEFORE the variable is reassigned\n",
        "print (alpha)"
      ]
    }
  ],
  "metadata": {
    "colab": {
      "collapsed_sections": [],
      "provenance": []
    },
    "kernelspec": {
      "display_name": "Python 3",
      "name": "python3"
    },
    "language_info": {
      "name": "python"
    }
  },
  "nbformat": 4,
  "nbformat_minor": 0
}
