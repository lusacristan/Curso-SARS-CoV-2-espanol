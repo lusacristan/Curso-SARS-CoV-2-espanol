{
  "cells": [
    {
      "cell_type": "markdown",
      "metadata": {
        "id": "HTAcxxiLtcAx"
      },
      "source": [
        "# Module 4: Data Sharing and Next Steps.\n",
        "\n",
        "\n",
        "\n",
        "As you have perfomed before:\n",
        "\n",
        "1.) Click on File on the top left corner and select save a copy in drive\n",
        "Your changes will not be saved if you do not do this step.\n",
        "\n",
        "2.) Click on the name of the workbook in the top left corner and replace \"Copy of\" with your full name."
      ]
    },
    {
      "cell_type": "markdown",
      "metadata": {
        "id": "9jVnQBVtt9t_"
      },
      "source": [
        "### Let's install analysis packages needed.\n",
        "\n",
        "For this portion we will use:  \n",
        "**seqtk** for assess genome quality (https://github.com/lh3/seqtk)  \n",
        "**Mafft** for genome alignment (https://mafft.cbrc.jp/alignment/software/)  \n",
        "**snp-site** for quick SNP difference assessment (https://github.com/sanger-pathogens/snp-sites)  \n",
        "**Fasttree** for phylogenetic tree building (http://www.microbesonline.org/fasttree/)  \n",
        "**Phylo** from biopython for quick tree visualisation (https://biopython.org/wiki/Phylo). *Note*: there are lots of tree visualisaiton programmes, most commonly used are ggtree(R), ete3 (python) and itol (https://itol.embl.de/).  \n",
        "\n",
        "microreact account (https://microreact.org/), which you can setup/sign in with your google account."
      ]
    },
    {
      "cell_type": "code",
      "execution_count": null,
      "metadata": {
        "colab": {
          "base_uri": "https://localhost:8080/"
        },
        "collapsed": true,
        "id": "TScBu-_j7MQ-",
        "outputId": "6e87eb5e-ee6b-4c86-d131-b7db2095d64f"
      },
      "outputs": [
        {
          "name": "stdout",
          "output_type": "stream",
          "text": [
            "Python 3.7.15\n"
          ]
        }
      ],
      "source": [
        "!python --version"
      ]
    },
    {
      "cell_type": "code",
      "execution_count": null,
      "metadata": {
        "id": "uUCA4PN6Z9zf"
      },
      "outputs": [],
      "source": [
        "!pip install -q condacolab\n",
        "import condacolab\n",
        "condacolab.install()"
      ]
    },
    {
      "cell_type": "code",
      "execution_count": null,
      "metadata": {
        "id": "bdW6qL0n2j2B"
      },
      "outputs": [],
      "source": [
        "!conda install -c conda-forge biopython"
      ]
    },
    {
      "cell_type": "code",
      "execution_count": null,
      "metadata": {
        "id": "r_BfX1pMbV2G"
      },
      "outputs": [],
      "source": [
        "!conda install -c bioconda mafft snp-sites fasttree seqtk snp-dists\n"
      ]
    },
    {
      "cell_type": "markdown",
      "metadata": {
        "id": "MIUdD5K5vwoZ"
      },
      "source": [
        "### Download dataset to be analysed\n",
        "\n",
        "In this module we will use the data analyzed in module 3. This data belongs to the article \"[Overview of the SARS-CoV-2 genotypes circulating in Latin America during 2021]( https://doi.org/10.3389/fpubh.2023.1095202 )\" published by Molina-Mora et al. 2023, as part of a CABANA project."
      ]
    },
    {
      "cell_type": "code",
      "execution_count": null,
      "metadata": {
        "id": "iD1qs04Uwqhw"
      },
      "outputs": [],
      "source": [
        "!wget https://zenodo.org/records/10888461/files/module_4.tar"
      ]
    },
    {
      "cell_type": "code",
      "execution_count": null,
      "metadata": {},
      "outputs": [],
      "source": [
        "!tar -xvf module_4.tar"
      ]
    },
    {
      "cell_type": "code",
      "execution_count": null,
      "metadata": {},
      "outputs": [],
      "source": [
        "%cd module_4/"
      ]
    },
    {
      "cell_type": "markdown",
      "metadata": {
        "id": "uE3delhayu1x"
      },
      "source": [
        "First we will assess genome quality to see if the genomes are good enough for analysis. For SARS-CoV-2, we are mainly interested in the number of Ns. The package we will use is seqtk comp, which gives a lots of statistics for a given sequence file in fasta format.   \n",
        "\n",
        "Output format: chr, length, #A, #C, #G, #T, #2, #3, #4, #CpG, #tv, #ts, #CpG-ts\n",
        "\n",
        "9th column, #4 is the number of Ns, 4 ambiguities, ie A, G, T, or C.\n",
        "\n",
        "If you have separated fasta files, it might be easier to combine the files together.  Otherwise, you have to go through the genome files separately."
      ]
    },
    {
      "cell_type": "code",
      "execution_count": null,
      "metadata": {
        "id": "LXmAbKCFw9e4"
      },
      "outputs": [],
      "source": [
        "#seqtk comp analysis the sequence information\n",
        "#cut -f 1,9 selects the column 1 and 9, the information we need.\n",
        "!seqtk comp gisaid_hcov-19_2024_03_27_02.fasta    | cut -f 1,9 > gisaid_hcov-19_quality.tsv"
      ]
    },
    {
      "cell_type": "code",
      "execution_count": null,
      "metadata": {
        "id": "JhddkUIM0ca7"
      },
      "outputs": [],
      "source": [
        "!cat gisaid_hcov-19_quality.tsv"
      ]
    },
    {
      "cell_type": "markdown",
      "metadata": {
        "id": "MMRXJ12A0ood"
      },
      "source": [
        "The quality looks good, however, samples EPI_ISL_10072006 and EPI_ISL_7961355 are not as good as the others. They have 1139 and 1628 ambiguous bases, but they are good enough for analysis. Overall, we require 90% or less than **3000** Ns in the genome for assembly and phylogenetic tree analysis. Having 70% of the genome assembled is the default value in Pangolin for lineage assignment."
      ]
    },
    {
      "cell_type": "markdown",
      "metadata": {
        "id": "6RPfQ30P023Y"
      },
      "source": [
        "### Alignment\n",
        "\n",
        "We will use mafft for alignment. It is fairly fast and pretty accurate.\n",
        "\n",
        "There are many options for alignning sequences in mafft. `--auto` is a good option where the programme itself chooses the most efficient (good balance between speed and accuracy) algorithm. Alignment could take days to align long sequences if using the most accurate algorthm.If you are aligning short sequences, such as a region of the spike gene/protein, you can use more accurate options. The mafft website has good examples of what to use when.\n",
        "\n",
        "For mafft to align the sequences, in our case whole genomes, you need to combine the sequence you want to align into one file. Good thing is you have done that already and since all genomes are good we don't need to exclude any from the alignment. "
      ]
    },
    {
      "cell_type": "code",
      "execution_count": null,
      "metadata": {
        "id": "lctKoEKLbrVG"
      },
      "outputs": [],
      "source": [
        "!mafft --auto gisaid_hcov-19_2024_03_27_02.fasta > gisaid_hcov_aligned.fasta"
      ]
    },
    {
      "cell_type": "markdown",
      "metadata": {
        "id": "I7F90-At1nrL"
      },
      "source": [
        "### Quick look at the genome differences\n",
        "snp-site is a really good software to give you an idea how closely related your genomes of interest are. For small datasets such as this, this is really good. It analyses your alignment and give you a SNP alignmern as default. it can also give you snp information in VCF format."
      ]
    },
    {
      "cell_type": "code",
      "execution_count": null,
      "metadata": {
        "id": "dvGvS0hkb1gO"
      },
      "outputs": [],
      "source": [
        "!snp-sites gisaid_hcov_aligned.fasta"
      ]
    },
    {
      "cell_type": "code",
      "execution_count": null,
      "metadata": {},
      "outputs": [],
      "source": [
        "#You can use the snp-dists command to calculate the pairwise SNP distances between the sequences in the alignment.\n",
        "!snp-dists gisaid_hcov_aligned.fasta"
      ]
    },
    {
      "cell_type": "markdown",
      "metadata": {
        "id": "Xc_agJV-4dK2"
      },
      "source": [
        "The alignment is a little bit more complicated with more differences, we need a phylogenetic tree to visualise the relationships"
      ]
    },
    {
      "cell_type": "code",
      "execution_count": null,
      "metadata": {
        "id": "QCsmOP11dLQF"
      },
      "outputs": [],
      "source": [
        "!fasttree -nt -gtr -gamma gisaid_hcov_aligned.fasta > gisaid_hcov_aligned.nwk"
      ]
    },
    {
      "cell_type": "code",
      "execution_count": null,
      "metadata": {
        "id": "mdiGRYRv4yTP"
      },
      "outputs": [],
      "source": [
        "!cat gisaid_hcov_aligned.nwk\n",
        "#as you can see it is quite difficult to interpret this format without visualising in tree-form\n"
      ]
    },
    {
      "cell_type": "code",
      "execution_count": null,
      "metadata": {
        "id": "Kd9qVlnE-4wX"
      },
      "outputs": [],
      "source": [
        "from Bio import Phylo\n",
        "\n",
        "tree = Phylo.read(\"gisaid_hcov_aligned.nwk\", \"newick\")\n",
        "print(\"tree\")\n",
        "Phylo.draw_ascii(tree)"
      ]
    },
    {
      "cell_type": "code",
      "execution_count": null,
      "metadata": {
        "id": "eCFGhUSE728C"
      },
      "outputs": [],
      "source": [
        "#let's add the 2020 reference genome to the dataset. \n",
        "!mafft --auto --add gisaid_hcov_aligned.fasta reference_genome.fasta > gisaid_hcov_aligned_ref.fasta"
      ]
    },
    {
      "cell_type": "code",
      "execution_count": null,
      "metadata": {
        "id": "QN1R5DaM7-pZ"
      },
      "outputs": [],
      "source": [
        "!fasttree -nt -gtr -gamma gisaid_hcov_aligned_ref.fasta > gisaid_hcov_aligned_ref.nwk"
      ]
    },
    {
      "cell_type": "markdown",
      "metadata": {
        "id": "QxxCeejy_k7c"
      },
      "source": [
        "Have a look at the snp alignment as well using snp-site. You will see that using the reference allowed the identification of ancestral bases, so now we know what nucleotide changes are mutations from wildtype. Previously the tree algorithm made the assumption that the majority base is the ancestral sequence, which is not correct."
      ]
    },
    {
      "cell_type": "code",
      "execution_count": null,
      "metadata": {
        "id": "30evp4Lb8QiP"
      },
      "outputs": [],
      "source": [
        "from Bio import Phylo\n",
        "\n",
        "treeOutgroup = Phylo.read(\"gisaid_hcov_aligned_ref.nwk\", \"newick\")\n",
        "treeOutgroup.root_with_outgroup({\"name\": \"nCoV2019|Wuhan-Hu-1|MN908947|China|Wuhan|2019-12\"}) \n",
        "print(\"treeOutgroup\")\n",
        "Phylo.draw_ascii(treeOutgroup)"
      ]
    },
    {
      "cell_type": "markdown",
      "metadata": {
        "id": "QNcABKhIBi9P"
      },
      "source": [
        "### watch microreact and nextstrain demo/video\n",
        "\n",
        "looking at trees this way is pretty difficult, there are some good tools out there that allows interactive trees and metadate visualisation.\n",
        "\n",
        "https://docs.microreact.org/   \n",
        "https://nextstrain.org/community/narratives/ESR-NZ/GenomicsNarrativeSARSCoV2/aotearoa-border-incursions"
      ]
    },
    {
      "cell_type": "markdown",
      "metadata": {
        "id": "ZApyhIf24USQ"
      },
      "source": [
        "### Other tools for larger datasets and tree building\n",
        "mafft even at the minimum accuracy model can be quite slow once you have 1000s of genomes to align. To speed things up, you can add new genomes to existing alignments or divide genomes into groups such as lineages or sublineages and then merge the alignments. The mafft website has good explaination of these tricks and their issues.    \n",
        "\n",
        "nextalign is another tool you can use. It is super fast! (https://docs.nextstrain.org/projects/nextclade/en/stable/user/nextalign-cli.html)  \n",
        "\n",
        "iqtree2 is a comprehensive (not Baysian) phylogeny building package that can test for best substition models for your dataset, perform bootstrap analysis, compare phylogeny etc etc. It is probably one of the best tree building tools (that is reasnabley fast) out there currently. (http://www.iqtree.org/)\n",
        "\n",
        "usher is a software package that allows adding sequences to existing trees without doing all the alignment again. (https://www.nature.com/articles/s41588-021-00862-7) We used this when we analysed the flight dataset. There are some caveats and issues you need to be aware of. If the existing alignment is really clean and the sequences to be added are high-quality, using usher is a good fast way to get some quick preliminary results. However, it does not deal with Ns or gaps very well.  \n",
        "\n",
        "For timed baysian phyolgeny, BEAST2 is often used. (https://www.beast2.org/)  https://www.nature.com/articles/s41559-017-0280-x  "
      ]
    },
    {
      "cell_type": "markdown",
      "metadata": {},
      "source": [
        "## Assignment\n",
        "\n",
        "> **There is a clade containing the 3 sequences from a single country. What country is it?** \n",
        "\n",
        "> **What is the distance between EPI_ISL_14434222 and EPI_ISL_14434358?**\n",
        "\n",
        "> **How is it reflected in the tree?**"
      ]
    }
  ],
  "metadata": {
    "colab": {
      "provenance": []
    },
    "kernelspec": {
      "display_name": "Python 3",
      "name": "python3"
    },
    "language_info": {
      "name": "python"
    }
  },
  "nbformat": 4,
  "nbformat_minor": 0
}
