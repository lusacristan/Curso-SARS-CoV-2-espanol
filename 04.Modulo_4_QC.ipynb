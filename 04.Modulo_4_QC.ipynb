{
  "cells": [
    {
      "cell_type": "markdown",
      "metadata": {
        "id": "JyG45Qk3qQLS"
      },
      "source": [
        "# Módulo 4:  Control de calidad (QC) inicial de genomas obtenidos por secuenciación Nanopore  e ilumina\n",
        "\n",
        "En este notebook analizaremos los resultados de  secuenciación utilizando dos enfoques para la secuenciación del genoma de SARS-CoV-2: Illumina y Nanopore tech. Ambos se basan en el [ARTIC protocol](https://artic.network/ncov-2019) desarrollado por [Artic Network](https://artic.network/). El proyecto Artic Network tiene como objetivo desarrollar un sistema integral para procesar rápidamente muestras de brotes virales y generar información epidemiológica en tiempo real, la cual sea utilizable por las autoridades de salud pública. Utilizando los genomas en rápida evolución de virus de ARN como el Ébola, el SARS-CoV-2 y la influenza, el proyecto reconstruye los procesos epidemiológicos que impulsan los brotes. Se centra en la tecnología Oxford Nanopore MinION, permitiendo el despliegue de un \"laboratorio en una maleta\" en áreas remotas. Este sistema integra plataformas de secuenciación y análisis para decodificar la dinámica de transmisión, la evolución del virus y las conexiones epidemiológicas con un giro rápido, proporcionando información utilizable en cuestión de días desde la recolección de muestras.\n",
        "\n",
        "El protocolo Artic para el análisis de datos obtenidos con Illumina, corresponde al protocolo **Classic Artic**, que amplifica el genoma SARS-CoV-2 en 98 fragmentos de 400 pb cada uno. Para Nanopore, el protocolo usado se llama **Midnight Protocol** y se basa en la amplificación de 29 fragmentos superpuestos de 1200 pb que cubren todo el genoma SARS-CoV-2 SARS-CoV-2.\n",
        "El contenido del notebook se puede resumir en:\n",
        "\n",
        "* Descargar datos\n",
        "* Instalar software y preparar el entorno\n",
        "* Ejecutar el control de calidad de la secuenciación\n",
        "\n",
        "Antes de iniciar este módulo le recomendamos ver los videos de esta playlist: https://www.youtube.com/playlist?list=PLfovZnX0TvKtfX79k16fFMkMwDFtrAcNp\n"
      ]
    },
    {
      "cell_type": "markdown",
      "metadata": {},
      "source": [
        "___"
      ]
    },
    {
      "cell_type": "markdown",
      "metadata": {
        "id": "33ZISlFh92bZ"
      },
      "source": [
        "### Instalar condacolab"
      ]
    },
    {
      "cell_type": "code",
      "execution_count": null,
      "metadata": {
        "id": "jymSg1rN92Ak"
      },
      "outputs": [],
      "source": [
        "!pip install -q condacolab\n",
        "import condacolab\n",
        "condacolab.install()"
      ]
    },
    {
      "cell_type": "markdown",
      "metadata": {
        "id": "fsIZH9hN5Ynw"
      },
      "source": [
        "### Instalar software"
      ]
    },
    {
      "cell_type": "code",
      "execution_count": null,
      "metadata": {},
      "outputs": [],
      "source": [
        "# Instalar nanoplot\n",
        "!conda install -c bioconda nanoplot"
      ]
    },
    {
      "cell_type": "code",
      "execution_count": null,
      "metadata": {
        "id": "lHsg9XFHEsO8"
      },
      "outputs": [],
      "source": [
        "#Instalar multiqc\n",
        "!pip install multiqc"
      ]
    },
    {
      "cell_type": "code",
      "execution_count": null,
      "metadata": {},
      "outputs": [],
      "source": [
        "#Ahora instale dos herramientas importantes - fastqc and trim-galore\n",
        "!conda install -c bioconda fastqc -y\n",
        "!conda install -c bioconda trim-galore"
      ]
    },
    {
      "cell_type": "code",
      "execution_count": null,
      "metadata": {},
      "outputs": [],
      "source": [
        "#Descargue SRA tools usando bioconda\n",
        "!conda install -c bioconda sra-tools"
      ]
    },
    {
      "cell_type": "markdown",
      "metadata": {},
      "source": [
        "### Descargar datos"
      ]
    },
    {
      "cell_type": "code",
      "execution_count": null,
      "metadata": {},
      "outputs": [],
      "source": [
        "#Descargue el archivo SRR19504912 de la base de datos SRA utilizando fastq-dump\n",
        "!fastq-dump --split-files SRR19504912"
      ]
    },
    {
      "cell_type": "markdown",
      "metadata": {},
      "source": [
        "### Ejecutar fastqc"
      ]
    },
    {
      "cell_type": "code",
      "execution_count": null,
      "metadata": {},
      "outputs": [],
      "source": [
        "#Este comando se ejecutará en cualquier archivo FASTQ en el directorio\n",
        "#Solo tenemos dos aquí, pero es posible que tenga miles, considere elutilizar el  operador * cuidadosamente\n",
        "!fastqc *.fastq"
      ]
    },
    {
      "cell_type": "markdown",
      "metadata": {},
      "source": [
        "Esto generará algunos mensajes algo como estos:\n",
        "\n",
        "    Started analysis of SRR19504912_1.fastq\n",
        "    Approx 5% complete for SRR19504912_1.fastq\n",
        "    Approx 10% complete for SRR19504912_1.fastq\n",
        "    ...\n",
        "    Approx 90% complete for SRR19504912_1.fastq\n",
        "    Approx 95% complete for SRR19504912_1.fastq\n",
        "    Analysis complete for SRR19504912_1.fastq\n",
        "    Started analysis of SRR19504912_2.fastq\n",
        "    Approx 5% complete for SRR19504912_2.fastq\n",
        "    Approx 10% complete for SRR19504912_2.fastq\n",
        "    Approx 15% complete for SRR19504912_2.fastq\n",
        "    ...\n",
        "    Approx 90% complete for SRR19504912_2.fastq\n",
        "    Approx 95% complete for SRR19504912_2.fastq\n",
        "    Analysis complete for SRR19504912_2.fastq\n",
        "\n",
        "\n",
        "Ahora, ejecute el comando `ls -lh` y debería ver que han aparecido algunos archivos nuevos:\n"
      ]
    },
    {
      "cell_type": "code",
      "execution_count": null,
      "metadata": {},
      "outputs": [],
      "source": [
        "#Corra el comando ls -lh -¿Qué hacen los operadores -l y -h??\n",
        "!ls -lh"
      ]
    },
    {
      "cell_type": "markdown",
      "metadata": {},
      "source": [
        "Eche un vistazo a las primeras líneas de cada archivo ejecutando este comando:   \n",
        "```\n",
        "head *.fastq\n",
        "```"
      ]
    },
    {
      "cell_type": "markdown",
      "metadata": {},
      "source": [
        "Estamos más interesados en los archivos HTML, que contienen los reportes FASTQC para nuestros dos archivos FASTQ. Para ver la salida, deberá descargue y use el archivo HTML. Para hacerlo, haga clic en los \"Tres puntos\" que verá al pasar el cursor sobre el archivo .html con el puntero del mouse y descargue, luego abra su descarga en un navegador\n",
        "\n",
        "![Screenshot 2022-10-24 at 16.48.48.png](data:image/png;base64,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)"
      ]
    },
    {
      "cell_type": "markdown",
      "metadata": {},
      "source": [
        "Entonces debería ver algo como esto:\n",
        "\n",
        "![enter image description here](https://github.com/WCSCourses/ViralBioinfAsia2022/raw/main/course_data/NGS_file_formats_and_data_QC/images/Screenshot%202022-07-31%20at%2015.28.02.png)\n",
        "\n",
        "Note que hay dos pestañas en el navegador web Firefox; Hay uno para el informe de QC para *SRR19504912_1.Fastq* y otro para *SRR19504912_2.Fastq*.\n",
        "\n",
        "Hay mucha información de QC en estos informes. Siéntase libre de explorarlos en su propio tiempo y eche un vistazo a la página de inicio de FastQC en https://www.bioinformatics.babraham.ac.uk/projects/fastqc/ y vea el video del tutorial en https://www.youtube.com/watch?v=bz93ReOv87Y.\n",
        "\n",
        "Por ahora, solo vamos a mirar\n",
        "- Estadísticas básicas\n",
        "- Calidad de secuencia por base\n",
        "- Contenido del adaptador"
      ]
    },
    {
      "cell_type": "markdown",
      "metadata": {},
      "source": [
        "### Preguntas:\n",
        "\n",
        " - ¿Cuántas lecturas de secuencia hay? ¿Su respuesta coincide con tu respuesta anterior (basada en `wc -l`)?\n",
        "\n",
        " - Con respecto a los puntajes de calidad, ¿cuál de los dos archivos tiene datos de mejor calidad: *SRR19504912_1.Fastq* o *SRR19504912_2.Fastq*.\n",
        " \n",
        " - ¿Los conjuntos de datos están contaminados con algún adaptador de secuenciación de Illumina?¿Cuál/es?\n",
        "\n"
      ]
    },
    {
      "cell_type": "markdown",
      "metadata": {},
      "source": [
        "## Recorte y filtrado para eliminar secuencias de baja calidad\n",
        "\n",
        "Cuando inspeccionó los informes FASTQC, probablemente notó que *SRR19504912_1.Fastq* y *SRR19504912_2.Fastq* incluyen algunas lecturas de secuencia que contienen puntajes de calidad muy pobres y algunas lecturas que se derivan de los adaptadores Illumina en lugar de las secuencias objetivo. Ahora, vamos a ver cómo podemos eliminar los datos deficientes y la contaminación recortando y filtrando. Usaremos [Trimgalore] (https://www.bioinformatics.babraham.ac.uk/projects/trim_galore/) ejecutando el siguiente comando:"
      ]
    },
    {
      "cell_type": "code",
      "execution_count": null,
      "metadata": {},
      "outputs": [],
      "source": [
        "!trim_galore -q 25 --length 50 --paired SRR19504912_1.fastq SRR19504912_2.fastq"
      ]
    },
    {
      "cell_type": "markdown",
      "metadata": {},
      "source": [
        "Ahora, cuando liste el contenido del directorio con `ls -lh, notará dos archivos nuevos llamados *SSRR19504912_1_val_1.fq* y *SRR19504912_2_val_2.fq*. Estas son las versiones recortadas y filtradas de los archivos originales *SRR19504912_1.fastq* y *SRR19504912_2.fastq*. Ahora, ejecutemos fastQC en estos dos nuevos archivos \"limpios\":\n"
      ]
    },
    {
      "cell_type": "code",
      "execution_count": null,
      "metadata": {},
      "outputs": [],
      "source": [
        "#Corra el comando ls -lh "
      ]
    },
    {
      "cell_type": "code",
      "execution_count": null,
      "metadata": {},
      "outputs": [],
      "source": [
        "#Corra fastqc *.fq\n",
        "!fastqc *.fq\n"
      ]
    },
    {
      "cell_type": "markdown",
      "metadata": {},
      "source": [
        "Esto creará informes de control de calidad en formato HTML para los archivos FASTQ limpios. Ahora echemos un vistazo a estos archivos como lo hizo anteriormente descargando el archivo html y abriéndolo en un navegador"
      ]
    },
    {
      "cell_type": "markdown",
      "metadata": {},
      "source": [
        "### Preguntas:\n",
        "\n",
        " - ¿Cuántas lecturas fueron eliminadas por Trimgalore de cada archivo FASTQ?\n",
        " - ¿Qué impacto ha tenido Trimgalore sobre la longitud de las lecturas de secuencia?\n",
        " - ¿Qué impacto ha tenido Trimgalore en la contaminación de adaptadores?\n",
        " - ¿Trimgalore ha alterado la distribución de puntajes de calidad?\n",
        " \n",
        " Puede leer más sobre Trimgalore en https://www.bioinformatics.babraham.ac.uk/projects/trim_galore/."
      ]
    },
    {
      "cell_type": "markdown",
      "metadata": {},
      "source": [
        "___"
      ]
    },
    {
      "cell_type": "markdown",
      "metadata": {
        "id": "97-AF1JnuR_4"
      },
      "source": [
        "# Illumina QC\n",
        "\n",
        "Usaremos el software [fastQC] (https://www.bioinformatics.babraham.ac.uk/projects/fastqc/) para el análisis de los resultados de secuenciación de Illumina. FastQC ejecuta una serie de análisis de archivos FASTQ e informa los resultados como un archivo html que abre en un navegador. Para obtener ayuda en cualquiera de las secciones, consulte los siguientes enlaces.\n",
        "\n",
        "*   [Basic statitistics](https://www.bioinformatics.babraham.ac.uk/projects/fastqc/Help/3%20Analysis%20Modules/1%20Basic%20Statistics.html)\n",
        "*   [Per base sequence quality](https://www.bioinformatics.babraham.ac.uk/projects/fastqc/Help/3%20Analysis%20Modules/2%20Per%20Base%20Sequence%20Quality.html)\n",
        "*   [Per base sequence content](https://www.bioinformatics.babraham.ac.uk/projects/fastqc/Help/3%20Analysis%20Modules/4%20Per%20Base%20Sequence%20Content.html)\n",
        "*   [Per sequence GC content](https://www.bioinformatics.babraham.ac.uk/projects/fastqc/Help/3%20Analysis%20Modules/5%20Per%20Sequence%20GC%20Content.html)\n",
        "*   [Per base N content](https://www.bioinformatics.babraham.ac.uk/projects/fastqc/Help/3%20Analysis%20Modules/6%20Per%20Base%20N%20Content.html)\n",
        "*   [Sequence length distribution](https://www.bioinformatics.babraham.ac.uk/projects/fastqc/Help/3%20Analysis%20Modules/7%20Sequence%20Length%20Distribution.html)\n",
        "*   [Duplicate Sequences](https://www.bioinformatics.babraham.ac.uk/projects/fastqc/Help/3%20Analysis%20Modules/8%20Duplicate%20Sequences.html)\n",
        "*   [Overrepresented Sequences](https://www.bioinformatics.babraham.ac.uk/projects/fastqc/Help/3%20Analysis%20Modules/9%20Overrepresented%20Sequences.html)\n",
        "*   [Adapter content](https://www.bioinformatics.babraham.ac.uk/projects/fastqc/Help/3%20Analysis%20Modules/10%20Adapter%20Content.html)\n",
        "*   [Kmer content](https://www.bioinformatics.babraham.ac.uk/projects/fastqc/Help/3%20Analysis%20Modules/11%20Kmer%20Content.html)\n",
        "*   [Per tile sequence quality](https://www.bioinformatics.babraham.ac.uk/projects/fastqc/Help/3%20Analysis%20Modules/12%20Per%20Tile%20Sequence%20Quality.html)\n"
      ]
    },
    {
      "cell_type": "markdown",
      "metadata": {
        "id": "dzKjsc_30R8X"
      },
      "source": [
        "Ejecute FastQC desde la línea de comandos"
      ]
    },
    {
      "cell_type": "code",
      "execution_count": null,
      "metadata": {
        "id": "_AjKDOjT2SVY"
      },
      "outputs": [],
      "source": [
        "#Cree un directorio para almacenar todos los resultados de FastQC y ejecutar FastQC\n",
        "!mkdir Illumina_fastqc_results\n",
        "!fastqc -o Illumina_fastqc_results /content/module_2/illumina/*"
      ]
    },
    {
      "cell_type": "markdown",
      "metadata": {
        "id": "1gIIXG21FFMC"
      },
      "source": [
        "Podemos resumir los resultados de FastQC usando MultiQC"
      ]
    },
    {
      "cell_type": "code",
      "execution_count": null,
      "metadata": {
        "id": "SFcigAHOGW6o"
      },
      "outputs": [],
      "source": [
        "!multiqc -o /content/Illumina_fastqc_results/ /content/Illumina_fastqc_results/"
      ]
    },
    {
      "cell_type": "markdown",
      "metadata": {
        "id": "QWk2zIA82W7s"
      },
      "source": [
        "Esto creará un archivo de resultados HTML (`Multiqc_report`) con un resumen de los informes de FastQC.\n",
        "\n",
        "Revise los resultados para cada archivo e informe:\n",
        "\n",
        "> **¿Qué muestra tiene más lecturas?**\n",
        "\n",
        "> **¿Cuál es el tamaño promedio de reads de la muestra SRR19903797?**"
      ]
    },
    {
      "cell_type": "markdown",
      "metadata": {},
      "source": [
        "___"
      ]
    },
    {
      "cell_type": "markdown",
      "metadata": {
        "id": "gEyqKnBS0NmF"
      },
      "source": [
        "# Nanopore QC"
      ]
    },
    {
      "cell_type": "markdown",
      "metadata": {
        "id": "aIgMW36I562h"
      },
      "source": [
        "Ejecute FastQC desde la línea de comandos (en realidad, para nanopore, FastQC no es una buena opción)"
      ]
    },
    {
      "cell_type": "code",
      "execution_count": null,
      "metadata": {
        "id": "ow3nIVgNa0B_"
      },
      "outputs": [],
      "source": [
        "!mkdir Nanopore_FastQC_report\n",
        "!fastqc -o Nanopore_FastQC_report /content/module_2/nanopore/*"
      ]
    },
    {
      "cell_type": "code",
      "execution_count": null,
      "metadata": {
        "id": "6B57EggvPnOC"
      },
      "outputs": [],
      "source": [
        "!multiqc -o /content/Nanopore_FastQC_report/ /content/Nanopore_FastQC_report/"
      ]
    },
    {
      "cell_type": "markdown",
      "metadata": {
        "id": "kofR4BYv5msu"
      },
      "source": [
        "Ejecución de NanoPlot para datos de nanopore"
      ]
    },
    {
      "cell_type": "code",
      "execution_count": null,
      "metadata": {
        "id": "igxrTMCETY5r"
      },
      "outputs": [],
      "source": [
        "!NanoPlot -o nanoplot_output --fastq /content/module_2/nanopore/*.fastq.gz "
      ]
    },
    {
      "cell_type": "markdown",
      "metadata": {
        "id": "hgXG-7xyE5LV"
      },
      "source": [
        " La salida estará en la carpeta NanoPlot_output. Descargue el archivo `nanoplot-report.html` y explore los resultados.\n",
        "\n",
        "\n",
        "> **¿Cuántas lecturas hay en total?**\n",
        "\n",
        "> **¿Cuál es el tamaño de lectura promedio?**"
      ]
    },
    {
      "cell_type": "markdown",
      "metadata": {},
      "source": [
        "*Adaptado de:*\n",
        "\n",
        "- Advanced Bioinformatics Course developed for the GPS and JUNO projects - Wellcome Sanger Insitute\n",
        "- SARS-CoV-2 Bioinformatics for Beginners Course - Wellcome Connecting Science\n",
        "- Viral Genomics and Bioinformatics Asia 2022 - Wellcome Connecting Science\n",
        "\n",
        "\n",
        "*Modificado por Luisa Sacristán (Universidad de los Andes-CABANA)*"
      ]
    }
  ],
  "metadata": {
    "colab": {
      "collapsed_sections": [],
      "provenance": []
    },
    "kernelspec": {
      "display_name": "Python 3",
      "name": "python3"
    }
  },
  "nbformat": 4,
  "nbformat_minor": 0
}
